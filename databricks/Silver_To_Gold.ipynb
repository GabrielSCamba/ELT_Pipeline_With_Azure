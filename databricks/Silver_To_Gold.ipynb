{
 "cells": [
  {
   "cell_type": "code",
   "execution_count": 0,
   "metadata": {
    "application/vnd.databricks.v1+cell": {
     "cellMetadata": {
      "byteLimit": 2048000,
      "rowLimit": 10000
     },
     "inputWidgets": {},
     "nuid": "cd393351-12ac-4088-831a-ff7cdba6a054",
     "showTitle": false,
     "tableResultSettingsMap": {},
     "title": ""
    }
   },
   "outputs": [],
   "source": [
    "# Libs\n",
    "from pyspark.sql.functions import col, to_date, year, month, dayofmonth, date_format\n",
    "\n",
    "# Paths Silver layer\n",
    "path_silver_profile = \"abfss://silver@datalakeetlproject.dfs.core.windows.net/profile\"\n",
    "path_silver_historical = \"abfss://silver@datalakeetlproject.dfs.core.windows.net/historical\"\n",
    "\n",
    "# Paths Gold layer\n",
    "path_gold_company = \"abfss://gold@datalakeetlproject.dfs.core.windows.net/dim_company\"\n",
    "path_gold_date = \"abfss://gold@datalakeetlproject.dfs.core.windows.net/dim_date\"\n",
    "path_gold_fact = \"abfss://gold@datalakeetlproject.dfs.core.windows.net/fact_quote\"\n",
    "\n",
    "# Read data from Silver layer\n",
    "df_profile = spark.read.format(\"delta\").load(path_silver_profile)\n",
    "df_historical = spark.read.format(\"delta\").load(path_silver_historical)"
   ]
  },
  {
   "cell_type": "code",
   "execution_count": 0,
   "metadata": {
    "application/vnd.databricks.v1+cell": {
     "cellMetadata": {
      "byteLimit": 2048000,
      "rowLimit": 10000
     },
     "inputWidgets": {},
     "nuid": "f3685206-ec71-4085-8e1f-ee3be5d3dd30",
     "showTitle": false,
     "tableResultSettingsMap": {},
     "title": ""
    }
   },
   "outputs": [],
   "source": [
    "#Datalake connection\n",
    "blobAccessKey = dbutils.secrets.get(scope = \"myscope\", key = \"accesskey\")\n",
    "spark.conf.set(\"fs.azure.account.key.datalakeetlproject.dfs.core.windows.net\", \n",
    "               blobAccessKey) "
   ]
  },
  {
   "cell_type": "code",
   "execution_count": 0,
   "metadata": {
    "application/vnd.databricks.v1+cell": {
     "cellMetadata": {
      "byteLimit": 2048000,
      "rowLimit": 10000
     },
     "inputWidgets": {},
     "nuid": "c3242b2c-c833-4895-8bf2-09719c97cdbe",
     "showTitle": false,
     "tableResultSettingsMap": {},
     "title": ""
    }
   },
   "outputs": [],
   "source": [
    "# Create dim_company in Gold layer\n",
    "dim_company = df_profile.select(\n",
    "    col(\"ticker\"),\n",
    "    col(\"company_name\"),\n",
    "    col(\"sector\"),\n",
    "    col(\"industry\"),\n",
    "    col(\"country\"),\n",
    "    col(\"ceo_name\"),\n",
    "    col(\"exchange\"),\n",
    "    col(\"market_cap\"),\n",
    "    col(\"website\")\n",
    ").dropDuplicates([\"ticker\"])\n"
   ]
  },
  {
   "cell_type": "code",
   "execution_count": 0,
   "metadata": {
    "application/vnd.databricks.v1+cell": {
     "cellMetadata": {
      "byteLimit": 2048000,
      "rowLimit": 10000
     },
     "inputWidgets": {},
     "nuid": "2a5f22b9-55b4-4aba-8f3c-50eb48c8b9e9",
     "showTitle": false,
     "tableResultSettingsMap": {},
     "title": ""
    }
   },
   "outputs": [],
   "source": [
    "# Create dim_date in Gold layer\n",
    "dim_date = df_historical.select(\n",
    "    to_date(\"date\", \"yyyy-MM-dd\").alias(\"date\"),\n",
    ").dropDuplicates() \\\n",
    " .withColumn(\"year\", year(col(\"date\"))) \\\n",
    " .withColumn(\"month\", month(col(\"date\"))) \\\n",
    " .withColumn(\"day\", dayofmonth(col(\"date\"))) \\\n",
    " .withColumn(\"week_day\", date_format(col(\"date\"), \"E\"))\n"
   ]
  },
  {
   "cell_type": "code",
   "execution_count": 0,
   "metadata": {
    "application/vnd.databricks.v1+cell": {
     "cellMetadata": {
      "byteLimit": 2048000,
      "rowLimit": 10000
     },
     "inputWidgets": {},
     "nuid": "47f61448-a0e3-437d-a421-8ad5680fc879",
     "showTitle": false,
     "tableResultSettingsMap": {},
     "title": ""
    }
   },
   "outputs": [],
   "source": [
    "# Create fact_quote in Gold layer\n",
    "fact_quote = df_historical.select(\n",
    "    col(\"ticker\"),\n",
    "    to_date(\"date\", \"yyyy-MM-dd\").alias(\"date\"),\n",
    "    col(\"open\"),\n",
    "    col(\"close\"),\n",
    "    col(\"high\"),\n",
    "    col(\"low\"),\n",
    "    col(\"volume\")\n",
    ")"
   ]
  },
  {
   "cell_type": "code",
   "execution_count": 0,
   "metadata": {
    "application/vnd.databricks.v1+cell": {
     "cellMetadata": {
      "byteLimit": 2048000,
      "rowLimit": 10000
     },
     "inputWidgets": {},
     "nuid": "13cfe1a4-b7af-4307-9848-c556a11d031f",
     "showTitle": false,
     "tableResultSettingsMap": {},
     "title": ""
    }
   },
   "outputs": [],
   "source": [
    "# Save data in Gold layer\n",
    "dim_company.write.mode(\"overwrite\").format(\"delta\").save(path_gold_company)\n",
    "dim_date.write.mode(\"overwrite\").format(\"delta\").save(path_gold_date)\n",
    "fact_quote.write.mode(\"overwrite\").format(\"delta\").save(path_gold_fact)\n"
   ]
  }
 ],
 "metadata": {
  "application/vnd.databricks.v1+notebook": {
   "computePreferences": null,
   "dashboards": [],
   "environmentMetadata": {
    "base_environment": "",
    "environment_version": "2"
   },
   "inputWidgetPreferences": null,
   "language": "python",
   "notebookMetadata": {
    "pythonIndentUnit": 4
   },
   "notebookName": "Silver_To_Gold",
   "widgets": {}
  },
  "language_info": {
   "name": "python"
  }
 },
 "nbformat": 4,
 "nbformat_minor": 0
}