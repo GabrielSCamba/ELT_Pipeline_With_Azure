{
 "cells": [
  {
   "cell_type": "markdown",
   "metadata": {
    "application/vnd.databricks.v1+cell": {
     "cellMetadata": {
      "byteLimit": 2048000,
      "rowLimit": 10000
     },
     "inputWidgets": {},
     "nuid": "2c7b0dcd-31a9-41cc-afb8-7dc25c089c74",
     "showTitle": false,
     "tableResultSettingsMap": {},
     "title": ""
    }
   },
   "source": [
    "# 1. Preparation"
   ]
  },
  {
   "cell_type": "code",
   "execution_count": 0,
   "metadata": {
    "application/vnd.databricks.v1+cell": {
     "cellMetadata": {
      "byteLimit": 2048000,
      "rowLimit": 10000
     },
     "inputWidgets": {},
     "nuid": "af6bf98e-6c8b-4f87-99d9-9d73ff4b57ab",
     "showTitle": true,
     "tableResultSettingsMap": {},
     "title": "Setup preparation"
    }
   },
   "outputs": [],
   "source": [
    "# Libs\n",
    "from pyspark.sql import SparkSession\n",
    "from pyspark.sql.functions import explode, col\n",
    "from pyspark.sql.types import DateType\n",
    "\n",
    "#Datalake connection\n",
    "blobAccessKey = dbutils.secrets.get(scope = \"myscope\", key = \"accesskey\")\n",
    "spark.conf.set(\"fs.azure.account.key.datalakeetlproject.dfs.core.windows.net\", \n",
    "               blobAccessKey) \n",
    "               \n",
    "# Paths\n",
    "path_bronze_profile = \"abfss://bronze@datalakeetlproject.dfs.core.windows.net/profile/*.json\"\n",
    "path_bronze_historical = \"abfss://bronze@datalakeetlproject.dfs.core.windows.net/historical/*.json\"\n",
    "path_silver_profile = \"abfss://silver@datalakeetlproject.dfs.core.windows.net/profile/\"\n",
    "path_silver_historical = \"abfss://silver@datalakeetlproject.dfs.core.windows.net/historical/\""
   ]
  },
  {
   "cell_type": "markdown",
   "metadata": {
    "application/vnd.databricks.v1+cell": {
     "cellMetadata": {
      "byteLimit": 2048000,
      "rowLimit": 10000
     },
     "inputWidgets": {},
     "nuid": "e551960c-b6dc-4c59-83fa-f50b86bf4fc7",
     "showTitle": false,
     "tableResultSettingsMap": {},
     "title": ""
    }
   },
   "source": [
    "# 2. Explore tables"
   ]
  },
  {
   "cell_type": "markdown",
   "metadata": {
    "application/vnd.databricks.v1+cell": {
     "cellMetadata": {
      "byteLimit": 2048000,
      "rowLimit": 10000
     },
     "inputWidgets": {},
     "nuid": "171cfde6-3b4a-4577-93d5-ad022ba12a22",
     "showTitle": false,
     "tableResultSettingsMap": {},
     "title": ""
    }
   },
   "source": [
    "## 2.1 Profile data"
   ]
  },
  {
   "cell_type": "code",
   "execution_count": 0,
   "metadata": {
    "application/vnd.databricks.v1+cell": {
     "cellMetadata": {
      "byteLimit": 2048000,
      "rowLimit": 10000
     },
     "inputWidgets": {},
     "nuid": "fa054714-c6ac-4159-ac55-a1efbf363664",
     "showTitle": true,
     "tableResultSettingsMap": {},
     "title": "Display bronze profile schema"
    }
   },
   "outputs": [],
   "source": [
    "# Read data and show schema\n",
    "df_bronze_profile = spark.read.json(path_bronze_profile)\n",
    "df_bronze_profile.printSchema()"
   ]
  },
  {
   "cell_type": "code",
   "execution_count": 0,
   "metadata": {
    "application/vnd.databricks.v1+cell": {
     "cellMetadata": {
      "byteLimit": 2048000,
      "rowLimit": 10000
     },
     "inputWidgets": {},
     "nuid": "ebf5550b-55c9-4abb-a439-f2ba4052b6c3",
     "showTitle": true,
     "tableResultSettingsMap": {},
     "title": "Display bronze profile table"
    }
   },
   "outputs": [],
   "source": [
    "# Show data\n",
    "display(df_bronze_profile.limit(5))"
   ]
  },
  {
   "cell_type": "markdown",
   "metadata": {
    "application/vnd.databricks.v1+cell": {
     "cellMetadata": {
      "byteLimit": 2048000,
      "rowLimit": 10000
     },
     "inputWidgets": {},
     "nuid": "26929575-9037-4903-8bbd-71dbcf24b1a7",
     "showTitle": false,
     "tableResultSettingsMap": {},
     "title": ""
    }
   },
   "source": [
    "## 2.2 Hitorical data"
   ]
  },
  {
   "cell_type": "code",
   "execution_count": 0,
   "metadata": {
    "application/vnd.databricks.v1+cell": {
     "cellMetadata": {
      "byteLimit": 2048000,
      "rowLimit": 10000
     },
     "inputWidgets": {},
     "nuid": "332bba6e-e515-405e-867d-e8358db31428",
     "showTitle": true,
     "tableResultSettingsMap": {},
     "title": "Display bronze historical schema"
    }
   },
   "outputs": [],
   "source": [
    "# Read data and show schema\n",
    "df_bronze_historical = spark.read.json(path_bronze_historical)\n",
    "df_bronze_historical.printSchema()"
   ]
  },
  {
   "cell_type": "code",
   "execution_count": 0,
   "metadata": {
    "application/vnd.databricks.v1+cell": {
     "cellMetadata": {
      "byteLimit": 2048000,
      "rowLimit": 10000
     },
     "inputWidgets": {},
     "nuid": "808db4d9-34bb-468c-98b0-bc41fd2f955d",
     "showTitle": true,
     "tableResultSettingsMap": {
      "0": {
       "dataGridStateBlob": "{\"version\":1,\"tableState\":{\"columnPinning\":{\"left\":[\"#row_number#\"],\"right\":[]},\"columnSizing\":{},\"columnVisibility\":{}},\"settings\":{\"columns\":{}},\"syncTimestamp\":1754004490998}",
       "filterBlob": null,
       "queryPlanFiltersBlob": null,
       "tableResultIndex": 0
      }
     },
     "title": "Display bronze historical table"
    }
   },
   "outputs": [],
   "source": [
    "# Expand to first level (historicalStockList)\n",
    "df_level1 = df_bronze_historical.withColumn(\"stock\", explode(col(\"historicalStockList\")))\n",
    "\n",
    "# Expand to sencond level (historical)\n",
    "df_level2 = df_level1.withColumn(\"data\", explode(col(\"stock.historical\")))\n",
    "\n",
    "# Select fields\n",
    "df_bronze_historical = df_level2.select(\n",
    "    col(\"stock.symbol\"),\n",
    "    col(\"data.date\"),\n",
    "    col(\"data.open\"),\n",
    "    col(\"data.high\"),\n",
    "    col(\"data.low\"),\n",
    "    col(\"data.close\"),\n",
    "    col(\"data.adjClose\"),\n",
    "    col(\"data.volume\"),\n",
    "    col(\"data.change\"),\n",
    "    col(\"data.changePercent\"),\n",
    "    col(\"data.vwap\")\n",
    ")\n",
    "\n",
    "# Show data\n",
    "display(df_bronze_historical.limit(20))"
   ]
  },
  {
   "cell_type": "markdown",
   "metadata": {
    "application/vnd.databricks.v1+cell": {
     "cellMetadata": {
      "byteLimit": 2048000,
      "rowLimit": 10000
     },
     "inputWidgets": {},
     "nuid": "5d18fb97-7ce2-408e-b801-4d46f309bf42",
     "showTitle": false,
     "tableResultSettingsMap": {},
     "title": ""
    }
   },
   "source": [
    "## 3. Data Transformation"
   ]
  },
  {
   "cell_type": "markdown",
   "metadata": {
    "application/vnd.databricks.v1+cell": {
     "cellMetadata": {
      "byteLimit": 2048000,
      "rowLimit": 10000
     },
     "inputWidgets": {},
     "nuid": "029ed734-fda1-4cf9-a4d7-f5c803cb771d",
     "showTitle": false,
     "tableResultSettingsMap": {},
     "title": ""
    }
   },
   "source": [
    "## 3.1 Profile"
   ]
  },
  {
   "cell_type": "code",
   "execution_count": 0,
   "metadata": {
    "application/vnd.databricks.v1+cell": {
     "cellMetadata": {
      "byteLimit": 2048000,
      "rowLimit": 10000
     },
     "inputWidgets": {},
     "nuid": "aee43a8b-7f9e-42ca-8c28-bbe040eef5ed",
     "showTitle": false,
     "tableResultSettingsMap": {},
     "title": ""
    }
   },
   "outputs": [],
   "source": [
    "# Copy 'profile' data from bronze layer\n",
    "df_silver_profile = df_bronze_profile\n",
    "\n",
    "# Select relevant fields and change column names\n",
    "df_silver_profile_clean = df_silver_profile.select(\n",
    "    col(\"symbol\").alias(\"ticker\"),\n",
    "    col(\"companyName\").alias(\"company_name\"),\n",
    "    col(\"sector\"),\n",
    "    col(\"industry\"),\n",
    "    col(\"country\"),\n",
    "    col(\"ceo\").alias(\"ceo_name\"),\n",
    "    col(\"exchange\"),\n",
    "    col(\"mktCap\").alias(\"market_cap\"),\n",
    "    col(\"price\"),\n",
    "    col(\"website\"),\n",
    "    col(\"description\")\n",
    ").dropDuplicates([\"ticker\"])\n",
    "\n"
   ]
  },
  {
   "cell_type": "code",
   "execution_count": 0,
   "metadata": {
    "application/vnd.databricks.v1+cell": {
     "cellMetadata": {
      "byteLimit": 2048000,
      "rowLimit": 10000
     },
     "inputWidgets": {},
     "nuid": "5293b683-f1a2-455d-aa85-8f5c4acfd3dc",
     "showTitle": false,
     "tableResultSettingsMap": {},
     "title": ""
    }
   },
   "outputs": [],
   "source": [
    "# display 'profile' data transformed\n",
    "display(df_silver_profile_clean.limit(20))"
   ]
  },
  {
   "cell_type": "code",
   "execution_count": 0,
   "metadata": {
    "application/vnd.databricks.v1+cell": {
     "cellMetadata": {
      "byteLimit": 2048000,
      "rowLimit": 10000
     },
     "inputWidgets": {},
     "nuid": "f699a60a-db33-4805-a01c-32ee685b61ae",
     "showTitle": false,
     "tableResultSettingsMap": {},
     "title": ""
    }
   },
   "outputs": [],
   "source": [
    "# Save into Silver layer\n",
    "df_silver_profile_clean.write.mode(\"overwrite\").format(\"delta\").save(path_silver_profile)"
   ]
  },
  {
   "cell_type": "markdown",
   "metadata": {
    "application/vnd.databricks.v1+cell": {
     "cellMetadata": {
      "byteLimit": 2048000,
      "rowLimit": 10000
     },
     "inputWidgets": {},
     "nuid": "2be658d2-a07f-48f2-8f83-300f7c2606ae",
     "showTitle": false,
     "tableResultSettingsMap": {},
     "title": ""
    }
   },
   "source": [
    "## 3.2 Historical"
   ]
  },
  {
   "cell_type": "code",
   "execution_count": 0,
   "metadata": {
    "application/vnd.databricks.v1+cell": {
     "cellMetadata": {
      "byteLimit": 2048000,
      "rowLimit": 10000
     },
     "inputWidgets": {},
     "nuid": "0706c65b-0c83-44bf-a3c3-4a0284c22e38",
     "showTitle": false,
     "tableResultSettingsMap": {},
     "title": ""
    }
   },
   "outputs": [],
   "source": [
    "df_bronze_historical.printSchema()\n"
   ]
  },
  {
   "cell_type": "code",
   "execution_count": 0,
   "metadata": {
    "application/vnd.databricks.v1+cell": {
     "cellMetadata": {
      "byteLimit": 2048000,
      "rowLimit": 10000
     },
     "inputWidgets": {},
     "nuid": "0ffab7cd-61e0-41bd-be1e-197541ad617a",
     "showTitle": false,
     "tableResultSettingsMap": {},
     "title": ""
    }
   },
   "outputs": [],
   "source": [
    "# Copy 'historical' data from bronze layer\n",
    "df_silver_historical = df_bronze_historical\n",
    "\n",
    "# Expand arrays\n",
    "df_silver_historical_level1 = df_silver_historical.withColumn(\"stock\", explode(col(\"historicalStockList\")))\n",
    "df_silver_historical_level2 = df_silver_historical_level1.withColumn(\"data\", explode(col(\"stock.historical\")))\n",
    "\n",
    "# Select relevant fields and change column names\n",
    "df_silver_historical_clean = df_silver_historical.select(\n",
    "    col(\"symbol\").alias(\"ticker\"),\n",
    "    col(\"date\").cast(DateType()).alias(\"date\"),\n",
    "    col(\"open\"),\n",
    "    col(\"high\"),\n",
    "    col(\"low\"),\n",
    "    col(\"close\"),\n",
    "    col(\"adjClose\").alias(\"adj_close\"),\n",
    "    col(\"volume\"),\n",
    "    col(\"change\"),\n",
    "    col(\"changePercent\").alias(\"change_percent\"),\n",
    "    col(\"vwap\")\n",
    ").dropDuplicates([\"ticker\", \"date\"])"
   ]
  },
  {
   "cell_type": "code",
   "execution_count": 0,
   "metadata": {
    "application/vnd.databricks.v1+cell": {
     "cellMetadata": {
      "byteLimit": 2048000,
      "rowLimit": 10000
     },
     "inputWidgets": {},
     "nuid": "4884655e-d6bc-4e84-bcdb-1eb13d3833f6",
     "showTitle": false,
     "tableResultSettingsMap": {},
     "title": ""
    }
   },
   "outputs": [],
   "source": [
    "# display 'historical' data transformed\n",
    "display(df_silver_historical_clean.limit(20))"
   ]
  },
  {
   "cell_type": "code",
   "execution_count": 0,
   "metadata": {
    "application/vnd.databricks.v1+cell": {
     "cellMetadata": {
      "byteLimit": 2048000,
      "rowLimit": 10000
     },
     "inputWidgets": {},
     "nuid": "a8de045b-2174-43cb-a887-82bb120c601e",
     "showTitle": false,
     "tableResultSettingsMap": {},
     "title": ""
    }
   },
   "outputs": [],
   "source": [
    "# Save into Silver layer\n",
    "df_silver_historical_clean.write.mode(\"overwrite\").format(\"delta\").save(path_silver_historical)"
   ]
  }
 ],
 "metadata": {
  "application/vnd.databricks.v1+notebook": {
   "computePreferences": null,
   "dashboards": [],
   "environmentMetadata": {
    "base_environment": "",
    "environment_version": "2"
   },
   "inputWidgetPreferences": null,
   "language": "python",
   "notebookMetadata": {
    "pythonIndentUnit": 4
   },
   "notebookName": "Bronze_to_Silver",
   "widgets": {}
  },
  "language_info": {
   "name": "python"
  }
 },
 "nbformat": 4,
 "nbformat_minor": 0
}
