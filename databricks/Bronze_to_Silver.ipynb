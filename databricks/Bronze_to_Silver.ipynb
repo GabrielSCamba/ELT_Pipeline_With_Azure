{
 "cells": [
  {
   "cell_type": "markdown",
   "metadata": {
    "application/vnd.databricks.v1+cell": {
     "cellMetadata": {
      "byteLimit": 2048000,
      "rowLimit": 10000
     },
     "inputWidgets": {},
     "nuid": "2c7b0dcd-31a9-41cc-afb8-7dc25c089c74",
     "showTitle": false,
     "tableResultSettingsMap": {},
     "title": ""
    }
   },
   "source": [
    "# 1. Preparation"
   ]
  },
  {
   "cell_type": "code",
   "execution_count": 0,
   "metadata": {
    "application/vnd.databricks.v1+cell": {
     "cellMetadata": {
      "byteLimit": 2048000,
      "rowLimit": 10000
     },
     "inputWidgets": {},
     "nuid": "af6bf98e-6c8b-4f87-99d9-9d73ff4b57ab",
     "showTitle": true,
     "tableResultSettingsMap": {},
     "title": "Setup preparation"
    }
   },
   "outputs": [],
   "source": [
    "# Libs\n",
    "from pyspark.sql import SparkSession\n",
    "from pyspark.sql.functions import explode, col\n",
    "from pyspark.sql.types import DateType\n",
    "\n",
    "#Datalake connection\n",
    "blobAccessKey = dbutils.secrets.get(scope = \"myscope\", key = \"accesskey\")\n",
    "spark.conf.set(\"fs.azure.account.key.datalakeetlproject.dfs.core.windows.net\", \n",
    "               blobAccessKey) \n",
    "               \n",
    "# Paths\n",
    "path_bronze_profile = \"abfss://bronze@datalakeetlproject.dfs.core.windows.net/profile/*.json\"\n",
    "path_bronze_historical = \"abfss://bronze@datalakeetlproject.dfs.core.windows.net/historical/*.json\"\n",
    "path_silver_profile = \"abfss://silver@datalakeetlproject.dfs.core.windows.net/profile/\"\n",
    "path_silver_historical = \"abfss://silver@datalakeetlproject.dfs.core.windows.net/historical/\""
   ]
  },
  {
   "cell_type": "markdown",
   "metadata": {
    "application/vnd.databricks.v1+cell": {
     "cellMetadata": {
      "byteLimit": 2048000,
      "rowLimit": 10000
     },
     "inputWidgets": {},
     "nuid": "e551960c-b6dc-4c59-83fa-f50b86bf4fc7",
     "showTitle": false,
     "tableResultSettingsMap": {},
     "title": ""
    }
   },
   "source": [
    "# 2. Explore tables"
   ]
  },
  {
   "cell_type": "markdown",
   "metadata": {
    "application/vnd.databricks.v1+cell": {
     "cellMetadata": {
      "byteLimit": 2048000,
      "rowLimit": 10000
     },
     "inputWidgets": {},
     "nuid": "171cfde6-3b4a-4577-93d5-ad022ba12a22",
     "showTitle": false,
     "tableResultSettingsMap": {},
     "title": ""
    }
   },
   "source": [
    "## 2.1 Profile data"
   ]
  },
  {
   "cell_type": "code",
   "execution_count": 0,
   "metadata": {
    "application/vnd.databricks.v1+cell": {
     "cellMetadata": {
      "byteLimit": 2048000,
      "rowLimit": 10000
     },
     "inputWidgets": {},
     "nuid": "fa054714-c6ac-4159-ac55-a1efbf363664",
     "showTitle": true,
     "tableResultSettingsMap": {},
     "title": "Display bronze profile schema"
    }
   },
   "outputs": [
    {
     "output_type": "stream",
     "name": "stdout",
     "output_type": "stream",
     "text": [
      "root\n |-- address: string (nullable = true)\n |-- beta: double (nullable = true)\n |-- ceo: string (nullable = true)\n |-- changes: double (nullable = true)\n |-- cik: string (nullable = true)\n |-- city: string (nullable = true)\n |-- companyName: string (nullable = true)\n |-- country: string (nullable = true)\n |-- currency: string (nullable = true)\n |-- cusip: string (nullable = true)\n |-- dcf: double (nullable = true)\n |-- dcfDiff: double (nullable = true)\n |-- defaultImage: boolean (nullable = true)\n |-- description: string (nullable = true)\n |-- exchange: string (nullable = true)\n |-- exchangeShortName: string (nullable = true)\n |-- fullTimeEmployees: string (nullable = true)\n |-- image: string (nullable = true)\n |-- industry: string (nullable = true)\n |-- ipoDate: string (nullable = true)\n |-- isActivelyTrading: boolean (nullable = true)\n |-- isAdr: boolean (nullable = true)\n |-- isEtf: boolean (nullable = true)\n |-- isFund: boolean (nullable = true)\n |-- isin: string (nullable = true)\n |-- lastDiv: double (nullable = true)\n |-- mktCap: long (nullable = true)\n |-- phone: string (nullable = true)\n |-- price: double (nullable = true)\n |-- range: string (nullable = true)\n |-- sector: string (nullable = true)\n |-- state: string (nullable = true)\n |-- symbol: string (nullable = true)\n |-- volAvg: long (nullable = true)\n |-- website: string (nullable = true)\n |-- zip: string (nullable = true)\n\n"
     ]
    }
   ],
   "source": [
    "# Read data and show schema\n",
    "df_bronze_profile = spark.read.json(path_bronze_profile)\n",
    "df_bronze_profile.printSchema()"
   ]
  },
  {
   "cell_type": "code",
   "execution_count": 0,
   "metadata": {
    "application/vnd.databricks.v1+cell": {
     "cellMetadata": {
      "byteLimit": 2048000,
      "rowLimit": 10000
     },
     "inputWidgets": {},
     "nuid": "ebf5550b-55c9-4abb-a439-f2ba4052b6c3",
     "showTitle": true,
     "tableResultSettingsMap": {},
     "title": "Display bronze profile table"
    }
   },
   "outputs": [
    {
     "output_type": "display_data",
     "data": {
      "text/html": [
       "<style scoped>\n",
       "  .table-result-container {\n",
       "    max-height: 300px;\n",
       "    overflow: auto;\n",
       "  }\n",
       "  table, th, td {\n",
       "    border: 1px solid black;\n",
       "    border-collapse: collapse;\n",
       "  }\n",
       "  th, td {\n",
       "    padding: 5px;\n",
       "  }\n",
       "  th {\n",
       "    text-align: left;\n",
       "  }\n",
       "</style><div class='table-result-container'><table class='table-result'><thead style='background-color: white'><tr><th>address</th><th>beta</th><th>ceo</th><th>changes</th><th>cik</th><th>city</th><th>companyName</th><th>country</th><th>currency</th><th>cusip</th><th>dcf</th><th>dcfDiff</th><th>defaultImage</th><th>description</th><th>exchange</th><th>exchangeShortName</th><th>fullTimeEmployees</th><th>image</th><th>industry</th><th>ipoDate</th><th>isActivelyTrading</th><th>isAdr</th><th>isEtf</th><th>isFund</th><th>isin</th><th>lastDiv</th><th>mktCap</th><th>phone</th><th>price</th><th>range</th><th>sector</th><th>state</th><th>symbol</th><th>volAvg</th><th>website</th><th>zip</th></tr></thead><tbody><tr><td>One Microsoft Way</td><td>1.055</td><td>Satya Nadella</td><td>11.53</td><td>0000789019</td><td>Redmond</td><td>Microsoft Corporation</td><td>US</td><td>USD</td><td>594918104</td><td>381.2641396727202</td><td>154.37586</td><td>false</td><td>Microsoft Corporation develops, licenses, and supports software, services, devices, and solutions worldwide. The company operates in three segments: Productivity and Business Processes, Intelligent Cloud, and More Personal Computing. The Productivity and Business Processes segment offers Office, Exchange, SharePoint, Microsoft Teams, Office 365 Security and Compliance, Microsoft Viva, and Skype for Business; Skype, Outlook.com, OneDrive, and LinkedIn; and Dynamics 365, a set of cloud-based and on-premises business solutions for organizations and enterprise divisions. The Intelligent Cloud segment licenses SQL, Windows Servers, Visual Studio, System Center, and related Client Access Licenses; GitHub that provides a collaboration platform and code hosting service for developers; Nuance provides healthcare and enterprise AI solutions; and Azure, a cloud platform. It also offers enterprise support, Microsoft consulting, and nuance professional services to assist customers in developing, deploying, and managing Microsoft server and desktop solutions; and training and certification on Microsoft products. The More Personal Computing segment provides Windows original equipment manufacturer (OEM) licensing and other non-volume licensing of the Windows operating system; Windows Commercial, such as volume licensing of the Windows operating system, Windows cloud services, and other Windows commercial offerings; patent licensing; and Windows Internet of Things. It also offers Surface, PC accessories, PCs, tablets, gaming and entertainment consoles, and other devices; Gaming, including Xbox hardware, and Xbox content and services; video games and third-party video game royalties; and Search, including Bing and Microsoft advertising. The company sells its products through OEMs, distributors, and resellers; and directly through digital marketplaces, online stores, and retail stores. Microsoft Corporation was founded in 1975 and is headquartered in Redmond, Washington.</td><td>NASDAQ Global Select</td><td>NASDAQ</td><td>228000</td><td>https://images.financialmodelingprep.com/symbol/MSFT.png</td><td>Software - Infrastructure</td><td>1986-03-13</td><td>true</td><td>false</td><td>false</td><td>false</td><td>US5949181045</td><td>3.24</td><td>3981503178800</td><td>425 882 8080</td><td>535.64</td><td>344.79-555.45</td><td>Technology</td><td>WA</td><td>MSFT</td><td>19670220</td><td>https://www.microsoft.com</td><td>98052-6399</td></tr><tr><td>2788 San Tomas Expressway</td><td>2.145</td><td>Jen-Hsun Huang</td><td>6.28</td><td>0001045810</td><td>Santa Clara</td><td>NVIDIA Corporation</td><td>US</td><td>USD</td><td>67066G104</td><td>147.67472560535901</td><td>32.32527</td><td>false</td><td>NVIDIA Corporation provides graphics, and compute and networking solutions in the United States, Taiwan, China, and internationally. The company's Graphics segment offers GeForce GPUs for gaming and PCs, the GeForce NOW game streaming service and related infrastructure, and solutions for gaming platforms; Quadro/NVIDIA RTX GPUs for enterprise workstation graphics; vGPU software for cloud-based visual and virtual computing; automotive platforms for infotainment systems; and Omniverse software for building 3D designs and virtual worlds. Its Compute & Networking segment provides Data Center platforms and systems for AI, HPC, and accelerated computing; Mellanox networking and interconnect solutions; automotive AI Cockpit, autonomous driving development agreements, and autonomous vehicle solutions; cryptocurrency mining processors; Jetson for robotics and other embedded platforms; and NVIDIA AI Enterprise and other software. The company's products are used in gaming, professional visualization, datacenter, and automotive markets. NVIDIA Corporation sells its products to original equipment manufacturers, original device manufacturers, system builders, add-in board manufacturers, retailers/distributors, independent software vendors, Internet and cloud service providers, automotive manufacturers and tier-1 automotive suppliers, mapping companies, start-ups, and other ecosystem participants. It has a strategic collaboration with Kroger Co. NVIDIA Corporation was incorporated in 1993 and is headquartered in Santa Clara, California.</td><td>NASDAQ Global Select</td><td>NASDAQ</td><td>36000</td><td>https://images.financialmodelingprep.com/symbol/NVDA.png</td><td>Semiconductors</td><td>1999-01-22</td><td>true</td><td>false</td><td>false</td><td>false</td><td>US67066G1040</td><td>0.04</td><td>4392000000000</td><td>408 486 2000</td><td>180.0</td><td>86.62-183.3</td><td>Technology</td><td>CA</td><td>NVDA</td><td>193026266</td><td>https://www.nvidia.com</td><td>95051</td></tr><tr><td>One Apple Park Way</td><td>1.165</td><td>Timothy D. Cook</td><td>0.97</td><td>0000320193</td><td>Cupertino</td><td>Apple Inc.</td><td>US</td><td>USD</td><td>037833100</td><td>177.13249175983253</td><td>26.21751</td><td>false</td><td>Apple Inc. designs, manufactures, and markets smartphones, personal computers, tablets, wearables, and accessories worldwide. The company offers iPhone, a line of smartphones; Mac, a line of personal computers; iPad, a line of multi-purpose tablets; and wearables, home, and accessories comprising AirPods, Apple TV, Apple Watch, Beats products, and HomePod. It also provides AppleCare support and cloud services; and operates various platforms, including the App Store that allow customers to discover and download applications and digital content, such as books, music, video, games, and podcasts, as well as advertising services include third-party licensing arrangements and its own advertising platforms. In addition, the company offers various subscription-based services, such as Apple Arcade, a game subscription service; Apple Fitness+, a personalized fitness service; Apple Music, which offers users a curated listening experience with on-demand radio stations; Apple News+, a subscription news and magazine service; Apple TV+, which offers exclusive original content; Apple Card, a co-branded credit card; and Apple Pay, a cashless payment service, as well as licenses its intellectual property. The company serves consumers, and small and mid-sized businesses; and the education, enterprise, and government markets. It distributes third-party applications for its products through the App Store. The company also sells its products through its retail and online stores, and direct sales force; and third-party cellular network carriers, wholesalers, retailers, and resellers. Apple Inc. was founded in 1976 and is headquartered in Cupertino, California.</td><td>NASDAQ Global Select</td><td>NASDAQ</td><td>164000</td><td>https://images.financialmodelingprep.com/symbol/AAPL.png</td><td>Consumer Electronics</td><td>1980-12-12</td><td>true</td><td>false</td><td>false</td><td>false</td><td>US0378331005</td><td>1.01</td><td>3037194930000</td><td>(408) 996-1010</td><td>203.35</td><td>169.21-260.1</td><td>Technology</td><td>CA</td><td>AAPL</td><td>53679570</td><td>https://www.apple.com</td><td>95014</td></tr><tr><td>410 Terry Avenue North</td><td>1.314</td><td>Andrew R. Jassy</td><td>-3.1</td><td>0001018724</td><td>Seattle</td><td>Amazon.com, Inc.</td><td>US</td><td>USD</td><td>023135106</td><td>31.729274889880838</td><td>179.92073</td><td>false</td><td>Amazon.com, Inc. engages in the retail sale of consumer products and subscriptions through online and physical stores in North America and internationally. The company operates through three segments: North America, International, and Amazon Web Services (AWS). Its products offered through its stores include merchandise and content purchased for resale; and products offered by third-party sellers The company also manufactures and sells electronic devices, including Kindle, Fire tablets, Fire TVs, Rings, Blink, eero, and Echo; and develops and produces media content. In addition, it offers programs that enable sellers to sell their products in its stores; and programs that allow authors, musicians, filmmakers, Twitch streamers, skill and app developers, and others to publish and sell content. Further, the company provides compute, storage, database, analytics, machine learning, and other services, as well as fulfillment, advertising, and digital content subscriptions. Additionally, it offers Amazon Prime, a membership program. The company serves consumers, sellers, developers, enterprises, content creators, and advertisers. Amazon.com, Inc. was incorporated in 1994 and is headquartered in Seattle, Washington.</td><td>NASDAQ Global Select</td><td>NASDAQ</td><td>1560000</td><td>https://images.financialmodelingprep.com/symbol/AMZN.png</td><td>Specialty Retail</td><td>1997-05-15</td><td>true</td><td>false</td><td>false</td><td>false</td><td>US0231351067</td><td>0.0</td><td>2246961060000</td><td>206 266 1000</td><td>211.65</td><td>158.54-242.52</td><td>Consumer Cyclical</td><td>WA</td><td>AMZN</td><td>43170150</td><td>https://www.amazon.com</td><td>98109-5210</td></tr><tr><td>1600 Amphitheatre Parkway</td><td>1.014</td><td>Sundar Pichai</td><td>5.91</td><td>0001652044</td><td>Mountain View</td><td>Alphabet Inc.</td><td>US</td><td>USD</td><td>02079K305</td><td>274.94092927961213</td><td>-79.90093</td><td>false</td><td>Alphabet Inc. provides various products and platforms in the United States, Europe, the Middle East, Africa, the Asia-Pacific, Canada, and Latin America. It operates through Google Services, Google Cloud, and Other Bets segments. The Google Services segment offers products and services, including ads, Android, Chrome, hardware, Gmail, Google Drive, Google Maps, Google Photos, Google Play, Search, and YouTube. It is also involved in the sale of apps and in-app purchases and digital content in the Google Play store; and Fitbit wearable devices, Google Nest home products, Pixel phones, and other devices, as well as in the provision of YouTube non-advertising services. The Google Cloud segment offers infrastructure, platform, and other services; Google Workspace that include cloud-based collaboration tools for enterprises, such as Gmail, Docs, Drive, Calendar, and Meet; and other services for enterprise customers. The Other Bets segment sells health technology and internet services. The company was founded in 1998 and is headquartered in Mountain View, California.</td><td>NASDAQ Global Select</td><td>NASDAQ</td><td>185719</td><td>https://images.financialmodelingprep.com/symbol/GOOGL.png</td><td>Internet Content & Information</td><td>2004-08-19</td><td>true</td><td>false</td><td>false</td><td>false</td><td>US02079K3059</td><td>0.81</td><td>2363795592800</td><td>650 253 0000</td><td>195.04</td><td>140.53-207.05</td><td>Communication Services</td><td>CA</td><td>GOOGL</td><td>42565590</td><td>https://www.abc.xyz</td><td>94043</td></tr></tbody></table></div>"
      ]
     },
     "metadata": {
      "application/vnd.databricks.v1+output": {
       "addedWidgets": {},
       "aggData": [],
       "aggError": "",
       "aggOverflow": false,
       "aggSchema": [],
       "aggSeriesLimitReached": false,
       "aggType": "",
       "arguments": {},
       "columnCustomDisplayInfos": {},
       "data": [
        [
         "One Microsoft Way",
         1.055,
         "Satya Nadella",
         11.53,
         "0000789019",
         "Redmond",
         "Microsoft Corporation",
         "US",
         "USD",
         "594918104",
         381.2641396727202,
         154.37586,
         false,
         "Microsoft Corporation develops, licenses, and supports software, services, devices, and solutions worldwide. The company operates in three segments: Productivity and Business Processes, Intelligent Cloud, and More Personal Computing. The Productivity and Business Processes segment offers Office, Exchange, SharePoint, Microsoft Teams, Office 365 Security and Compliance, Microsoft Viva, and Skype for Business; Skype, Outlook.com, OneDrive, and LinkedIn; and Dynamics 365, a set of cloud-based and on-premises business solutions for organizations and enterprise divisions. The Intelligent Cloud segment licenses SQL, Windows Servers, Visual Studio, System Center, and related Client Access Licenses; GitHub that provides a collaboration platform and code hosting service for developers; Nuance provides healthcare and enterprise AI solutions; and Azure, a cloud platform. It also offers enterprise support, Microsoft consulting, and nuance professional services to assist customers in developing, deploying, and managing Microsoft server and desktop solutions; and training and certification on Microsoft products. The More Personal Computing segment provides Windows original equipment manufacturer (OEM) licensing and other non-volume licensing of the Windows operating system; Windows Commercial, such as volume licensing of the Windows operating system, Windows cloud services, and other Windows commercial offerings; patent licensing; and Windows Internet of Things. It also offers Surface, PC accessories, PCs, tablets, gaming and entertainment consoles, and other devices; Gaming, including Xbox hardware, and Xbox content and services; video games and third-party video game royalties; and Search, including Bing and Microsoft advertising. The company sells its products through OEMs, distributors, and resellers; and directly through digital marketplaces, online stores, and retail stores. Microsoft Corporation was founded in 1975 and is headquartered in Redmond, Washington.",
         "NASDAQ Global Select",
         "NASDAQ",
         "228000",
         "https://images.financialmodelingprep.com/symbol/MSFT.png",
         "Software - Infrastructure",
         "1986-03-13",
         true,
         false,
         false,
         false,
         "US5949181045",
         3.24,
         3981503178800,
         "425 882 8080",
         535.64,
         "344.79-555.45",
         "Technology",
         "WA",
         "MSFT",
         19670220,
         "https://www.microsoft.com",
         "98052-6399"
        ],
        [
         "2788 San Tomas Expressway",
         2.145,
         "Jen-Hsun Huang",
         6.28,
         "0001045810",
         "Santa Clara",
         "NVIDIA Corporation",
         "US",
         "USD",
         "67066G104",
         147.67472560535901,
         32.32527,
         false,
         "NVIDIA Corporation provides graphics, and compute and networking solutions in the United States, Taiwan, China, and internationally. The company's Graphics segment offers GeForce GPUs for gaming and PCs, the GeForce NOW game streaming service and related infrastructure, and solutions for gaming platforms; Quadro/NVIDIA RTX GPUs for enterprise workstation graphics; vGPU software for cloud-based visual and virtual computing; automotive platforms for infotainment systems; and Omniverse software for building 3D designs and virtual worlds. Its Compute & Networking segment provides Data Center platforms and systems for AI, HPC, and accelerated computing; Mellanox networking and interconnect solutions; automotive AI Cockpit, autonomous driving development agreements, and autonomous vehicle solutions; cryptocurrency mining processors; Jetson for robotics and other embedded platforms; and NVIDIA AI Enterprise and other software. The company's products are used in gaming, professional visualization, datacenter, and automotive markets. NVIDIA Corporation sells its products to original equipment manufacturers, original device manufacturers, system builders, add-in board manufacturers, retailers/distributors, independent software vendors, Internet and cloud service providers, automotive manufacturers and tier-1 automotive suppliers, mapping companies, start-ups, and other ecosystem participants. It has a strategic collaboration with Kroger Co. NVIDIA Corporation was incorporated in 1993 and is headquartered in Santa Clara, California.",
         "NASDAQ Global Select",
         "NASDAQ",
         "36000",
         "https://images.financialmodelingprep.com/symbol/NVDA.png",
         "Semiconductors",
         "1999-01-22",
         true,
         false,
         false,
         false,
         "US67066G1040",
         0.04,
         4392000000000,
         "408 486 2000",
         180.0,
         "86.62-183.3",
         "Technology",
         "CA",
         "NVDA",
         193026266,
         "https://www.nvidia.com",
         "95051"
        ],
        [
         "One Apple Park Way",
         1.165,
         "Timothy D. Cook",
         0.97,
         "0000320193",
         "Cupertino",
         "Apple Inc.",
         "US",
         "USD",
         "037833100",
         177.13249175983253,
         26.21751,
         false,
         "Apple Inc. designs, manufactures, and markets smartphones, personal computers, tablets, wearables, and accessories worldwide. The company offers iPhone, a line of smartphones; Mac, a line of personal computers; iPad, a line of multi-purpose tablets; and wearables, home, and accessories comprising AirPods, Apple TV, Apple Watch, Beats products, and HomePod. It also provides AppleCare support and cloud services; and operates various platforms, including the App Store that allow customers to discover and download applications and digital content, such as books, music, video, games, and podcasts, as well as advertising services include third-party licensing arrangements and its own advertising platforms. In addition, the company offers various subscription-based services, such as Apple Arcade, a game subscription service; Apple Fitness+, a personalized fitness service; Apple Music, which offers users a curated listening experience with on-demand radio stations; Apple News+, a subscription news and magazine service; Apple TV+, which offers exclusive original content; Apple Card, a co-branded credit card; and Apple Pay, a cashless payment service, as well as licenses its intellectual property. The company serves consumers, and small and mid-sized businesses; and the education, enterprise, and government markets. It distributes third-party applications for its products through the App Store. The company also sells its products through its retail and online stores, and direct sales force; and third-party cellular network carriers, wholesalers, retailers, and resellers. Apple Inc. was founded in 1976 and is headquartered in Cupertino, California.",
         "NASDAQ Global Select",
         "NASDAQ",
         "164000",
         "https://images.financialmodelingprep.com/symbol/AAPL.png",
         "Consumer Electronics",
         "1980-12-12",
         true,
         false,
         false,
         false,
         "US0378331005",
         1.01,
         3037194930000,
         "(408) 996-1010",
         203.35,
         "169.21-260.1",
         "Technology",
         "CA",
         "AAPL",
         53679570,
         "https://www.apple.com",
         "95014"
        ],
        [
         "410 Terry Avenue North",
         1.314,
         "Andrew R. Jassy",
         -3.1,
         "0001018724",
         "Seattle",
         "Amazon.com, Inc.",
         "US",
         "USD",
         "023135106",
         31.729274889880838,
         179.92073,
         false,
         "Amazon.com, Inc. engages in the retail sale of consumer products and subscriptions through online and physical stores in North America and internationally. The company operates through three segments: North America, International, and Amazon Web Services (AWS). Its products offered through its stores include merchandise and content purchased for resale; and products offered by third-party sellers The company also manufactures and sells electronic devices, including Kindle, Fire tablets, Fire TVs, Rings, Blink, eero, and Echo; and develops and produces media content. In addition, it offers programs that enable sellers to sell their products in its stores; and programs that allow authors, musicians, filmmakers, Twitch streamers, skill and app developers, and others to publish and sell content. Further, the company provides compute, storage, database, analytics, machine learning, and other services, as well as fulfillment, advertising, and digital content subscriptions. Additionally, it offers Amazon Prime, a membership program. The company serves consumers, sellers, developers, enterprises, content creators, and advertisers. Amazon.com, Inc. was incorporated in 1994 and is headquartered in Seattle, Washington.",
         "NASDAQ Global Select",
         "NASDAQ",
         "1560000",
         "https://images.financialmodelingprep.com/symbol/AMZN.png",
         "Specialty Retail",
         "1997-05-15",
         true,
         false,
         false,
         false,
         "US0231351067",
         0.0,
         2246961060000,
         "206 266 1000",
         211.65,
         "158.54-242.52",
         "Consumer Cyclical",
         "WA",
         "AMZN",
         43170150,
         "https://www.amazon.com",
         "98109-5210"
        ],
        [
         "1600 Amphitheatre Parkway",
         1.014,
         "Sundar Pichai",
         5.91,
         "0001652044",
         "Mountain View",
         "Alphabet Inc.",
         "US",
         "USD",
         "02079K305",
         274.94092927961213,
         -79.90093,
         false,
         "Alphabet Inc. provides various products and platforms in the United States, Europe, the Middle East, Africa, the Asia-Pacific, Canada, and Latin America. It operates through Google Services, Google Cloud, and Other Bets segments. The Google Services segment offers products and services, including ads, Android, Chrome, hardware, Gmail, Google Drive, Google Maps, Google Photos, Google Play, Search, and YouTube. It is also involved in the sale of apps and in-app purchases and digital content in the Google Play store; and Fitbit wearable devices, Google Nest home products, Pixel phones, and other devices, as well as in the provision of YouTube non-advertising services. The Google Cloud segment offers infrastructure, platform, and other services; Google Workspace that include cloud-based collaboration tools for enterprises, such as Gmail, Docs, Drive, Calendar, and Meet; and other services for enterprise customers. The Other Bets segment sells health technology and internet services. The company was founded in 1998 and is headquartered in Mountain View, California.",
         "NASDAQ Global Select",
         "NASDAQ",
         "185719",
         "https://images.financialmodelingprep.com/symbol/GOOGL.png",
         "Internet Content & Information",
         "2004-08-19",
         true,
         false,
         false,
         false,
         "US02079K3059",
         0.81,
         2363795592800,
         "650 253 0000",
         195.04,
         "140.53-207.05",
         "Communication Services",
         "CA",
         "GOOGL",
         42565590,
         "https://www.abc.xyz",
         "94043"
        ]
       ],
       "datasetInfos": [],
       "dbfsResultPath": null,
       "isJsonSchema": true,
       "metadata": {},
       "overflow": false,
       "plotOptions": {
        "customPlotOptions": {},
        "displayType": "table",
        "pivotAggregation": null,
        "pivotColumns": null,
        "xColumns": null,
        "yColumns": null
       },
       "removedWidgets": [],
       "schema": [
        {
         "metadata": "{}",
         "name": "address",
         "type": "\"string\""
        },
        {
         "metadata": "{}",
         "name": "beta",
         "type": "\"double\""
        },
        {
         "metadata": "{}",
         "name": "ceo",
         "type": "\"string\""
        },
        {
         "metadata": "{}",
         "name": "changes",
         "type": "\"double\""
        },
        {
         "metadata": "{}",
         "name": "cik",
         "type": "\"string\""
        },
        {
         "metadata": "{}",
         "name": "city",
         "type": "\"string\""
        },
        {
         "metadata": "{}",
         "name": "companyName",
         "type": "\"string\""
        },
        {
         "metadata": "{}",
         "name": "country",
         "type": "\"string\""
        },
        {
         "metadata": "{}",
         "name": "currency",
         "type": "\"string\""
        },
        {
         "metadata": "{}",
         "name": "cusip",
         "type": "\"string\""
        },
        {
         "metadata": "{}",
         "name": "dcf",
         "type": "\"double\""
        },
        {
         "metadata": "{}",
         "name": "dcfDiff",
         "type": "\"double\""
        },
        {
         "metadata": "{}",
         "name": "defaultImage",
         "type": "\"boolean\""
        },
        {
         "metadata": "{}",
         "name": "description",
         "type": "\"string\""
        },
        {
         "metadata": "{}",
         "name": "exchange",
         "type": "\"string\""
        },
        {
         "metadata": "{}",
         "name": "exchangeShortName",
         "type": "\"string\""
        },
        {
         "metadata": "{}",
         "name": "fullTimeEmployees",
         "type": "\"string\""
        },
        {
         "metadata": "{}",
         "name": "image",
         "type": "\"string\""
        },
        {
         "metadata": "{}",
         "name": "industry",
         "type": "\"string\""
        },
        {
         "metadata": "{}",
         "name": "ipoDate",
         "type": "\"string\""
        },
        {
         "metadata": "{}",
         "name": "isActivelyTrading",
         "type": "\"boolean\""
        },
        {
         "metadata": "{}",
         "name": "isAdr",
         "type": "\"boolean\""
        },
        {
         "metadata": "{}",
         "name": "isEtf",
         "type": "\"boolean\""
        },
        {
         "metadata": "{}",
         "name": "isFund",
         "type": "\"boolean\""
        },
        {
         "metadata": "{}",
         "name": "isin",
         "type": "\"string\""
        },
        {
         "metadata": "{}",
         "name": "lastDiv",
         "type": "\"double\""
        },
        {
         "metadata": "{}",
         "name": "mktCap",
         "type": "\"long\""
        },
        {
         "metadata": "{}",
         "name": "phone",
         "type": "\"string\""
        },
        {
         "metadata": "{}",
         "name": "price",
         "type": "\"double\""
        },
        {
         "metadata": "{}",
         "name": "range",
         "type": "\"string\""
        },
        {
         "metadata": "{}",
         "name": "sector",
         "type": "\"string\""
        },
        {
         "metadata": "{}",
         "name": "state",
         "type": "\"string\""
        },
        {
         "metadata": "{}",
         "name": "symbol",
         "type": "\"string\""
        },
        {
         "metadata": "{}",
         "name": "volAvg",
         "type": "\"long\""
        },
        {
         "metadata": "{}",
         "name": "website",
         "type": "\"string\""
        },
        {
         "metadata": "{}",
         "name": "zip",
         "type": "\"string\""
        }
       ],
       "type": "table"
      }
     },
     "output_type": "display_data"
    }
   ],
   "source": [
    "# Show data\n",
    "display(df_bronze_profile.limit(5))"
   ]
  },
  {
   "cell_type": "markdown",
   "metadata": {
    "application/vnd.databricks.v1+cell": {
     "cellMetadata": {
      "byteLimit": 2048000,
      "rowLimit": 10000
     },
     "inputWidgets": {},
     "nuid": "26929575-9037-4903-8bbd-71dbcf24b1a7",
     "showTitle": false,
     "tableResultSettingsMap": {},
     "title": ""
    }
   },
   "source": [
    "## 2.2 Hitorical data"
   ]
  },
  {
   "cell_type": "code",
   "execution_count": 0,
   "metadata": {
    "application/vnd.databricks.v1+cell": {
     "cellMetadata": {
      "byteLimit": 2048000,
      "rowLimit": 10000
     },
     "inputWidgets": {},
     "nuid": "332bba6e-e515-405e-867d-e8358db31428",
     "showTitle": true,
     "tableResultSettingsMap": {},
     "title": "Display bronze historical schema"
    }
   },
   "outputs": [
    {
     "output_type": "stream",
     "name": "stdout",
     "output_type": "stream",
     "text": [
      "root\n |-- historicalStockList: array (nullable = true)\n |    |-- element: struct (containsNull = true)\n |    |    |-- historical: array (nullable = true)\n |    |    |    |-- element: struct (containsNull = true)\n |    |    |    |    |-- adjClose: double (nullable = true)\n |    |    |    |    |-- change: double (nullable = true)\n |    |    |    |    |-- changeOverTime: double (nullable = true)\n |    |    |    |    |-- changePercent: double (nullable = true)\n |    |    |    |    |-- close: double (nullable = true)\n |    |    |    |    |-- date: string (nullable = true)\n |    |    |    |    |-- high: double (nullable = true)\n |    |    |    |    |-- label: string (nullable = true)\n |    |    |    |    |-- low: double (nullable = true)\n |    |    |    |    |-- open: double (nullable = true)\n |    |    |    |    |-- unadjustedVolume: long (nullable = true)\n |    |    |    |    |-- volume: long (nullable = true)\n |    |    |    |    |-- vwap: double (nullable = true)\n |    |    |-- symbol: string (nullable = true)\n\n"
     ]
    }
   ],
   "source": [
    "# Read data and show schema\n",
    "df_bronze_historical = spark.read.json(path_bronze_historical)\n",
    "df_bronze_historical.printSchema()"
   ]
  },
  {
   "cell_type": "code",
   "execution_count": 0,
   "metadata": {
    "application/vnd.databricks.v1+cell": {
     "cellMetadata": {
      "byteLimit": 2048000,
      "rowLimit": 10000
     },
     "inputWidgets": {},
     "nuid": "808db4d9-34bb-468c-98b0-bc41fd2f955d",
     "showTitle": true,
     "tableResultSettingsMap": {
      "0": {
       "dataGridStateBlob": "{\"version\":1,\"tableState\":{\"columnPinning\":{\"left\":[\"#row_number#\"],\"right\":[]},\"columnSizing\":{},\"columnVisibility\":{}},\"settings\":{\"columns\":{}},\"syncTimestamp\":1754004490998}",
       "filterBlob": null,
       "queryPlanFiltersBlob": null,
       "tableResultIndex": 0
      }
     },
     "title": "Display bronze historical table"
    }
   },
   "outputs": [
    {
     "output_type": "display_data",
     "data": {
      "text/html": [
       "<style scoped>\n",
       "  .table-result-container {\n",
       "    max-height: 300px;\n",
       "    overflow: auto;\n",
       "  }\n",
       "  table, th, td {\n",
       "    border: 1px solid black;\n",
       "    border-collapse: collapse;\n",
       "  }\n",
       "  th, td {\n",
       "    padding: 5px;\n",
       "  }\n",
       "  th {\n",
       "    text-align: left;\n",
       "  }\n",
       "</style><div class='table-result-container'><table class='table-result'><thead style='background-color: white'><tr><th>symbol</th><th>date</th><th>open</th><th>high</th><th>low</th><th>close</th><th>adjClose</th><th>volume</th><th>change</th><th>changePercent</th><th>vwap</th></tr></thead><tbody><tr><td>MSFT</td><td>2025-08-04</td><td>528.27</td><td>538.25</td><td>528.13</td><td>535.64</td><td>535.64</td><td>25349004</td><td>7.37</td><td>1.4</td><td>532.5725</td></tr><tr><td>MSFT</td><td>2025-08-01</td><td>535.0</td><td>535.8</td><td>520.86</td><td>524.11</td><td>524.11</td><td>28977628</td><td>-10.89</td><td>-2.04</td><td>528.9425</td></tr><tr><td>MSFT</td><td>2025-07-31</td><td>555.23</td><td>555.45</td><td>531.9</td><td>533.5</td><td>533.5</td><td>51617326</td><td>-21.73</td><td>-3.91</td><td>544.02</td></tr><tr><td>MSFT</td><td>2025-07-30</td><td>515.17</td><td>515.95</td><td>509.44</td><td>513.24</td><td>513.24</td><td>26380434</td><td>-1.93</td><td>-0.37463</td><td>513.45</td></tr><tr><td>MSFT</td><td>2025-07-29</td><td>515.53</td><td>517.62</td><td>511.56</td><td>512.57</td><td>512.57</td><td>16469235</td><td>-2.96</td><td>-0.57417</td><td>514.32</td></tr><tr><td>MSFT</td><td>2025-07-28</td><td>514.08</td><td>515.0</td><td>510.12</td><td>512.5</td><td>512.5</td><td>14308027</td><td>-1.58</td><td>-0.30735</td><td>512.925</td></tr><tr><td>MSFT</td><td>2025-07-25</td><td>512.47</td><td>518.29</td><td>510.36</td><td>513.71</td><td>513.71</td><td>19125700</td><td>1.25</td><td>0.24197</td><td>513.7075</td></tr><tr><td>MSFT</td><td>2025-07-24</td><td>508.77</td><td>513.67</td><td>507.3</td><td>510.88</td><td>510.88</td><td>16107000</td><td>2.11</td><td>0.41473</td><td>510.155</td></tr><tr><td>MSFT</td><td>2025-07-23</td><td>506.75</td><td>506.79</td><td>500.7</td><td>505.87</td><td>505.87</td><td>16396600</td><td>-0.88</td><td>-0.17366</td><td>505.0275</td></tr><tr><td>MSFT</td><td>2025-07-22</td><td>510.97</td><td>511.2</td><td>505.27</td><td>505.27</td><td>505.27</td><td>13868644</td><td>-5.7</td><td>-1.12</td><td>508.1775</td></tr><tr><td>MSFT</td><td>2025-07-21</td><td>506.71</td><td>512.09</td><td>505.55</td><td>510.06</td><td>510.06</td><td>14066805</td><td>3.36</td><td>0.66113</td><td>508.6025</td></tr><tr><td>MSFT</td><td>2025-07-18</td><td>514.48</td><td>514.64</td><td>507.43</td><td>510.05</td><td>510.05</td><td>21209700</td><td>-4.43</td><td>-0.86106</td><td>511.65</td></tr><tr><td>MSFT</td><td>2025-07-17</td><td>505.68</td><td>513.37</td><td>505.62</td><td>511.7</td><td>511.7</td><td>17503129</td><td>6.02</td><td>1.19</td><td>509.0925</td></tr><tr><td>MSFT</td><td>2025-07-16</td><td>505.18</td><td>506.72</td><td>501.89</td><td>505.62</td><td>505.62</td><td>15154400</td><td>0.44</td><td>0.08709767</td><td>504.8525</td></tr><tr><td>MSFT</td><td>2025-07-15</td><td>503.02</td><td>508.3</td><td>502.79</td><td>505.82</td><td>505.82</td><td>14927202</td><td>2.8</td><td>0.55664</td><td>504.9825</td></tr><tr><td>MSFT</td><td>2025-07-14</td><td>501.52</td><td>503.97</td><td>501.03</td><td>503.02</td><td>503.02</td><td>12058848</td><td>1.5</td><td>0.29909</td><td>502.385</td></tr><tr><td>MSFT</td><td>2025-07-11</td><td>498.47</td><td>505.03</td><td>497.8</td><td>503.32</td><td>503.32</td><td>16459512</td><td>4.85</td><td>0.97298</td><td>501.155</td></tr><tr><td>MSFT</td><td>2025-07-10</td><td>503.05</td><td>504.44</td><td>497.75</td><td>501.48</td><td>501.48</td><td>16498740</td><td>-1.57</td><td>-0.3121</td><td>501.68</td></tr><tr><td>MSFT</td><td>2025-07-09</td><td>500.3</td><td>506.78</td><td>499.74</td><td>503.51</td><td>503.51</td><td>18659538</td><td>3.21</td><td>0.64162</td><td>502.5825</td></tr><tr><td>MSFT</td><td>2025-07-08</td><td>497.24</td><td>498.2</td><td>494.11</td><td>496.62</td><td>496.62</td><td>11846600</td><td>-0.62</td><td>-0.12469</td><td>496.5425</td></tr></tbody></table></div>"
      ]
     },
     "metadata": {
      "application/vnd.databricks.v1+output": {
       "addedWidgets": {},
       "aggData": [],
       "aggError": "",
       "aggOverflow": false,
       "aggSchema": [],
       "aggSeriesLimitReached": false,
       "aggType": "",
       "arguments": {},
       "columnCustomDisplayInfos": {},
       "data": [
        [
         "MSFT",
         "2025-08-04",
         528.27,
         538.25,
         528.13,
         535.64,
         535.64,
         25349004,
         7.37,
         1.4,
         532.5725
        ],
        [
         "MSFT",
         "2025-08-01",
         535.0,
         535.8,
         520.86,
         524.11,
         524.11,
         28977628,
         -10.89,
         -2.04,
         528.9425
        ],
        [
         "MSFT",
         "2025-07-31",
         555.23,
         555.45,
         531.9,
         533.5,
         533.5,
         51617326,
         -21.73,
         -3.91,
         544.02
        ],
        [
         "MSFT",
         "2025-07-30",
         515.17,
         515.95,
         509.44,
         513.24,
         513.24,
         26380434,
         -1.93,
         -0.37463,
         513.45
        ],
        [
         "MSFT",
         "2025-07-29",
         515.53,
         517.62,
         511.56,
         512.57,
         512.57,
         16469235,
         -2.96,
         -0.57417,
         514.32
        ],
        [
         "MSFT",
         "2025-07-28",
         514.08,
         515.0,
         510.12,
         512.5,
         512.5,
         14308027,
         -1.58,
         -0.30735,
         512.925
        ],
        [
         "MSFT",
         "2025-07-25",
         512.47,
         518.29,
         510.36,
         513.71,
         513.71,
         19125700,
         1.25,
         0.24197,
         513.7075
        ],
        [
         "MSFT",
         "2025-07-24",
         508.77,
         513.67,
         507.3,
         510.88,
         510.88,
         16107000,
         2.11,
         0.41473,
         510.155
        ],
        [
         "MSFT",
         "2025-07-23",
         506.75,
         506.79,
         500.7,
         505.87,
         505.87,
         16396600,
         -0.88,
         -0.17366,
         505.0275
        ],
        [
         "MSFT",
         "2025-07-22",
         510.97,
         511.2,
         505.27,
         505.27,
         505.27,
         13868644,
         -5.7,
         -1.12,
         508.1775
        ],
        [
         "MSFT",
         "2025-07-21",
         506.71,
         512.09,
         505.55,
         510.06,
         510.06,
         14066805,
         3.36,
         0.66113,
         508.6025
        ],
        [
         "MSFT",
         "2025-07-18",
         514.48,
         514.64,
         507.43,
         510.05,
         510.05,
         21209700,
         -4.43,
         -0.86106,
         511.65
        ],
        [
         "MSFT",
         "2025-07-17",
         505.68,
         513.37,
         505.62,
         511.7,
         511.7,
         17503129,
         6.02,
         1.19,
         509.0925
        ],
        [
         "MSFT",
         "2025-07-16",
         505.18,
         506.72,
         501.89,
         505.62,
         505.62,
         15154400,
         0.44,
         0.08709767,
         504.8525
        ],
        [
         "MSFT",
         "2025-07-15",
         503.02,
         508.3,
         502.79,
         505.82,
         505.82,
         14927202,
         2.8,
         0.55664,
         504.9825
        ],
        [
         "MSFT",
         "2025-07-14",
         501.52,
         503.97,
         501.03,
         503.02,
         503.02,
         12058848,
         1.5,
         0.29909,
         502.385
        ],
        [
         "MSFT",
         "2025-07-11",
         498.47,
         505.03,
         497.8,
         503.32,
         503.32,
         16459512,
         4.85,
         0.97298,
         501.155
        ],
        [
         "MSFT",
         "2025-07-10",
         503.05,
         504.44,
         497.75,
         501.48,
         501.48,
         16498740,
         -1.57,
         -0.3121,
         501.68
        ],
        [
         "MSFT",
         "2025-07-09",
         500.3,
         506.78,
         499.74,
         503.51,
         503.51,
         18659538,
         3.21,
         0.64162,
         502.5825
        ],
        [
         "MSFT",
         "2025-07-08",
         497.24,
         498.2,
         494.11,
         496.62,
         496.62,
         11846600,
         -0.62,
         -0.12469,
         496.5425
        ]
       ],
       "datasetInfos": [],
       "dbfsResultPath": null,
       "isJsonSchema": true,
       "metadata": {},
       "overflow": false,
       "plotOptions": {
        "customPlotOptions": {},
        "displayType": "table",
        "pivotAggregation": null,
        "pivotColumns": null,
        "xColumns": null,
        "yColumns": null
       },
       "removedWidgets": [],
       "schema": [
        {
         "metadata": "{}",
         "name": "symbol",
         "type": "\"string\""
        },
        {
         "metadata": "{}",
         "name": "date",
         "type": "\"string\""
        },
        {
         "metadata": "{}",
         "name": "open",
         "type": "\"double\""
        },
        {
         "metadata": "{}",
         "name": "high",
         "type": "\"double\""
        },
        {
         "metadata": "{}",
         "name": "low",
         "type": "\"double\""
        },
        {
         "metadata": "{}",
         "name": "close",
         "type": "\"double\""
        },
        {
         "metadata": "{}",
         "name": "adjClose",
         "type": "\"double\""
        },
        {
         "metadata": "{}",
         "name": "volume",
         "type": "\"long\""
        },
        {
         "metadata": "{}",
         "name": "change",
         "type": "\"double\""
        },
        {
         "metadata": "{}",
         "name": "changePercent",
         "type": "\"double\""
        },
        {
         "metadata": "{}",
         "name": "vwap",
         "type": "\"double\""
        }
       ],
       "type": "table"
      }
     },
     "output_type": "display_data"
    }
   ],
   "source": [
    "# Expand to first level (historicalStockList)\n",
    "df_level1 = df_bronze_historical.withColumn(\"stock\", explode(col(\"historicalStockList\")))\n",
    "\n",
    "# Expand to sencond level (historical)\n",
    "df_level2 = df_level1.withColumn(\"data\", explode(col(\"stock.historical\")))\n",
    "\n",
    "# Select fields\n",
    "df_bronze_historical = df_level2.select(\n",
    "    col(\"stock.symbol\"),\n",
    "    col(\"data.date\"),\n",
    "    col(\"data.open\"),\n",
    "    col(\"data.high\"),\n",
    "    col(\"data.low\"),\n",
    "    col(\"data.close\"),\n",
    "    col(\"data.adjClose\"),\n",
    "    col(\"data.volume\"),\n",
    "    col(\"data.change\"),\n",
    "    col(\"data.changePercent\"),\n",
    "    col(\"data.vwap\")\n",
    ")\n",
    "\n",
    "# Show data\n",
    "display(df_bronze_historical.limit(20))"
   ]
  },
  {
   "cell_type": "markdown",
   "metadata": {
    "application/vnd.databricks.v1+cell": {
     "cellMetadata": {
      "byteLimit": 2048000,
      "rowLimit": 10000
     },
     "inputWidgets": {},
     "nuid": "5d18fb97-7ce2-408e-b801-4d46f309bf42",
     "showTitle": false,
     "tableResultSettingsMap": {},
     "title": ""
    }
   },
   "source": [
    "## 3. Data Transformation"
   ]
  },
  {
   "cell_type": "markdown",
   "metadata": {
    "application/vnd.databricks.v1+cell": {
     "cellMetadata": {
      "byteLimit": 2048000,
      "rowLimit": 10000
     },
     "inputWidgets": {},
     "nuid": "029ed734-fda1-4cf9-a4d7-f5c803cb771d",
     "showTitle": false,
     "tableResultSettingsMap": {},
     "title": ""
    }
   },
   "source": [
    "## 3.1 Profile"
   ]
  },
  {
   "cell_type": "code",
   "execution_count": 0,
   "metadata": {
    "application/vnd.databricks.v1+cell": {
     "cellMetadata": {
      "byteLimit": 2048000,
      "rowLimit": 10000
     },
     "inputWidgets": {},
     "nuid": "aee43a8b-7f9e-42ca-8c28-bbe040eef5ed",
     "showTitle": false,
     "tableResultSettingsMap": {},
     "title": ""
    }
   },
   "outputs": [],
   "source": [
    "# Copy 'profile' data from bronze layer\n",
    "df_silver_profile = df_bronze_profile\n",
    "\n",
    "# Select relevant fields and change column names\n",
    "df_silver_profile_clean = df_silver_profile.select(\n",
    "    col(\"symbol\").alias(\"ticker\"),\n",
    "    col(\"companyName\").alias(\"company_name\"),\n",
    "    col(\"sector\"),\n",
    "    col(\"industry\"),\n",
    "    col(\"country\"),\n",
    "    col(\"ceo\").alias(\"ceo_name\"),\n",
    "    col(\"exchange\"),\n",
    "    col(\"mktCap\").alias(\"market_cap\"),\n",
    "    col(\"price\"),\n",
    "    col(\"website\"),\n",
    "    col(\"description\")\n",
    ").dropDuplicates([\"ticker\"])\n",
    "\n"
   ]
  },
  {
   "cell_type": "code",
   "execution_count": 0,
   "metadata": {
    "application/vnd.databricks.v1+cell": {
     "cellMetadata": {
      "byteLimit": 2048000,
      "rowLimit": 10000
     },
     "inputWidgets": {},
     "nuid": "5293b683-f1a2-455d-aa85-8f5c4acfd3dc",
     "showTitle": false,
     "tableResultSettingsMap": {},
     "title": ""
    }
   },
   "outputs": [
    {
     "output_type": "display_data",
     "data": {
      "text/html": [
       "<style scoped>\n",
       "  .table-result-container {\n",
       "    max-height: 300px;\n",
       "    overflow: auto;\n",
       "  }\n",
       "  table, th, td {\n",
       "    border: 1px solid black;\n",
       "    border-collapse: collapse;\n",
       "  }\n",
       "  th, td {\n",
       "    padding: 5px;\n",
       "  }\n",
       "  th {\n",
       "    text-align: left;\n",
       "  }\n",
       "</style><div class='table-result-container'><table class='table-result'><thead style='background-color: white'><tr><th>ticker</th><th>company_name</th><th>sector</th><th>industry</th><th>country</th><th>ceo_name</th><th>exchange</th><th>market_cap</th><th>price</th><th>website</th><th>description</th></tr></thead><tbody><tr><td>AAPL</td><td>Apple Inc.</td><td>Technology</td><td>Consumer Electronics</td><td>US</td><td>Timothy D. Cook</td><td>NASDAQ Global Select</td><td>3037194930000</td><td>203.35</td><td>https://www.apple.com</td><td>Apple Inc. designs, manufactures, and markets smartphones, personal computers, tablets, wearables, and accessories worldwide. The company offers iPhone, a line of smartphones; Mac, a line of personal computers; iPad, a line of multi-purpose tablets; and wearables, home, and accessories comprising AirPods, Apple TV, Apple Watch, Beats products, and HomePod. It also provides AppleCare support and cloud services; and operates various platforms, including the App Store that allow customers to discover and download applications and digital content, such as books, music, video, games, and podcasts, as well as advertising services include third-party licensing arrangements and its own advertising platforms. In addition, the company offers various subscription-based services, such as Apple Arcade, a game subscription service; Apple Fitness+, a personalized fitness service; Apple Music, which offers users a curated listening experience with on-demand radio stations; Apple News+, a subscription news and magazine service; Apple TV+, which offers exclusive original content; Apple Card, a co-branded credit card; and Apple Pay, a cashless payment service, as well as licenses its intellectual property. The company serves consumers, and small and mid-sized businesses; and the education, enterprise, and government markets. It distributes third-party applications for its products through the App Store. The company also sells its products through its retail and online stores, and direct sales force; and third-party cellular network carriers, wholesalers, retailers, and resellers. Apple Inc. was founded in 1976 and is headquartered in Cupertino, California.</td></tr><tr><td>ADBE</td><td>Adobe Inc.</td><td>Technology</td><td>Software - Infrastructure</td><td>US</td><td>Shantanu Narayen</td><td>NASDAQ Global Select</td><td>143740170000</td><td>338.85</td><td>https://www.adobe.com</td><td>Adobe Inc. operates as a diversified software company worldwide. It operates through three segments: Digital Media, Digital Experience, and Publishing and Advertising. The Digital Media segment offers products, services, and solutions that enable individuals, teams, and enterprises to create, publish, and promote content; and Document Cloud, a unified cloud-based document services platform. Its flagship product is Creative Cloud, a subscription service that allows members to access its creative products. This segment serves content creators, workers, marketers, educators, enthusiasts, communicators, and consumers. The Digital Experience segment provides an integrated platform and set of applications and services that enable brands and businesses to create, manage, execute, measure, monetize, and optimize customer experiences from analytics to commerce. This segment serves marketers, advertisers, agencies, publishers, merchandisers, merchants, web analysts, data scientists, developers, and executives across the C-suite. The Publishing and Advertising segment offers products and services, such as e-learning solutions, technical document publishing, web conferencing, document and forms platform, web application development, and high-end printing, as well as Advertising Cloud offerings. The company offers its products and services directly to enterprise customers through its sales force and local field offices, as well as to end users through app stores and through its website at adobe.com. It also distributes products and services through a network of distributors, value-added resellers, systems integrators, software vendors and developers, retailers, and original equipment manufacturers. The company was formerly known as Adobe Systems Incorporated and changed its name to Adobe Inc. in October 2018. Adobe Inc. was founded in 1982 and is headquartered in San Jose, California.</td></tr><tr><td>ADP</td><td>Automatic Data Processing, Inc.</td><td>Industrials</td><td>Staffing & Employment Services</td><td>US</td><td>Maria Black</td><td>NASDAQ Global Select</td><td>122694285980</td><td>302.26</td><td>https://www.adp.com</td><td>Automatic Data Processing, Inc. provides cloud-based human capital management solutions worldwide. It operates in two segments, Employer Services and Professional Employer Organization (PEO). The Employer Services segment offers strategic, cloud-based platforms, and human resources (HR) outsourcing solutions. Its offerings include payroll, benefits administration, talent management, HR management, workforce management, insurance, retirement, and compliance services, as well as integrated HCM solutions. The PEO Services segment provides HR outsourcing solutions to small and mid-sized businesses through a co-employment model. This segment offers benefits package, protection and compliance, talent engagement, expertise, comprehensive outsourcing, and recruitment process outsourcing services. The company was founded in 1949 and is headquartered in Roseland, New Jersey.</td></tr><tr><td>AMGN</td><td>Amgen Inc.</td><td>Healthcare</td><td>Drug Manufacturers - General</td><td>US</td><td>Robert A. Bradway</td><td>NASDAQ Global Select</td><td>162354949640</td><td>301.94</td><td>https://www.amgen.com</td><td>Amgen Inc. discovers, develops, manufactures, and delivers human therapeutics worldwide. It focuses on inflammation, oncology/hematology, bone health, cardiovascular disease, nephrology, and neuroscience areas. The company's products include Enbrel to treat plaque psoriasis, rheumatoid arthritis, and psoriatic arthritis; Neulasta that reduces the chance of infection due a low white blood cell count in patients cancer; Prolia to treat postmenopausal women with osteoporosis; Xgeva for skeletal-related events prevention; Otezla for the treatment of adult patients with plaque psoriasis, psoriatic arthritis, and oral ulcers associated with Behçet's disease; Aranesp to treat a lower-than-normal number of red blood cells and anemia; KYPROLIS to treat patients with relapsed or refractory multiple myeloma; and Repatha, which reduces the risks of myocardial infarction, stroke, and coronary revascularization. It also markets Nplate, Vectibix, MVASI, Parsabiv, EPOGEN, KANJINTI, BLINCYTO, Aimovig, EVENITY, AMGEVITATM, Sensipar/Mimpara, NEUPOGEN, IMLYGIC, Corlanor, and AVSOLA. Amgen Inc. serves healthcare providers, including physicians or their clinics, dialysis centers, hospitals, and pharmacies. It distributes its products through pharmaceutical wholesale distributors, as well as direct-to-consumer channels. It has collaboration agreements with Novartis Pharma AG; UCB; Bayer HealthCare LLC; BeiGene, Ltd.; Eli Lilly and Company; Datos Health; and Verastem, Inc. to evaluate VS-6766 in combination with lumakrastm (Sotorasib) in patients with KRAS G12C-mutant non-small cell lung cancer. It has an agreement with Kyowa Kirin Co., Ltd. to jointly develop and commercialize KHK4083, a Phase 3-ready anti-OX40 fully human monoclonal antibody for the treatment of atopic dermatitis and other autoimmune diseases; and research and development collaboration with Neumora Therapeutics, Inc. and Plexium, Inc. Amgen Inc. was incorporated in 1980 and is headquartered in Thousand Oaks, California.</td></tr><tr><td>AMZN</td><td>Amazon.com, Inc.</td><td>Consumer Cyclical</td><td>Specialty Retail</td><td>US</td><td>Andrew R. Jassy</td><td>NASDAQ Global Select</td><td>2246961060000</td><td>211.65</td><td>https://www.amazon.com</td><td>Amazon.com, Inc. engages in the retail sale of consumer products and subscriptions through online and physical stores in North America and internationally. The company operates through three segments: North America, International, and Amazon Web Services (AWS). Its products offered through its stores include merchandise and content purchased for resale; and products offered by third-party sellers The company also manufactures and sells electronic devices, including Kindle, Fire tablets, Fire TVs, Rings, Blink, eero, and Echo; and develops and produces media content. In addition, it offers programs that enable sellers to sell their products in its stores; and programs that allow authors, musicians, filmmakers, Twitch streamers, skill and app developers, and others to publish and sell content. Further, the company provides compute, storage, database, analytics, machine learning, and other services, as well as fulfillment, advertising, and digital content subscriptions. Additionally, it offers Amazon Prime, a membership program. The company serves consumers, sellers, developers, enterprises, content creators, and advertisers. Amazon.com, Inc. was incorporated in 1994 and is headquartered in Seattle, Washington.</td></tr><tr><td>AVGO</td><td>Broadcom Inc.</td><td>Technology</td><td>Semiconductors</td><td>US</td><td>Hock E. Tan</td><td>NASDAQ Global Select</td><td>1400317088400</td><td>297.72</td><td>https://www.broadcom.com</td><td>Broadcom Inc. designs, develops, and supplies various semiconductor devices with a focus on complex digital and mixed signal complementary metal oxide semiconductor based devices and analog III-V based products worldwide. The company operates in two segments, Semiconductor Solutions and Infrastructure Software. It provides set-top box system-on-chips (SoCs); cable, digital subscriber line, and passive optical networking central office/consumer premise equipment SoCs; wireless local area network access point SoCs; Ethernet switching and routing merchant silicon products; embedded processors and controllers; serializer/deserializer application specific integrated circuits; optical and copper, and physical layers; and fiber optic transmitter and receiver components. The company also offers RF front end modules, filters, and power amplifiers; Wi-Fi, Bluetooth, and global positioning system/global navigation satellite system SoCs; custom touch controllers; serial attached small computer system interface, and redundant array of independent disks controllers and adapters; peripheral component interconnect express switches; fiber channel host bus adapters; read channel based SoCs; custom flash controllers; preamplifiers; and optocouplers, industrial fiber optics, and motion control encoders and subsystems. Its products are used in various applications, including enterprise and data center networking, home connectivity, set-top boxes, broadband access, telecommunication equipment, smartphones and base stations, data center servers and storage systems, factory automation, power generation and alternative energy systems, and electronic displays. Broadcom Inc. was incorporated in 2018 and is headquartered in San Jose, California.</td></tr><tr><td>BLK</td><td>BlackRock, Inc.</td><td>Financial Services</td><td>Asset Management</td><td>US</td><td>Laurence Douglas Fink</td><td>New York Stock Exchange</td><td>172906711560</td><td>1116.06</td><td>https://www.blackrock.com</td><td>BlackRock, Inc. is a publicly owned investment manager. The firm primarily provides its services to institutional, intermediary, and individual investors including corporate, public, union, and industry pension plans, insurance companies, third-party mutual funds, endowments, public institutions, governments, foundations, charities, sovereign wealth funds, corporations, official institutions, and banks. It also provides global risk management and advisory services. The firm manages separate client-focused equity, fixed income, and balanced portfolios. It also launches and manages open-end and closed-end mutual funds, offshore funds, unit trusts, and alternative investment vehicles including structured funds. The firm launches equity, fixed income, balanced, and real estate mutual funds. It also launches equity, fixed income, balanced, currency, commodity, and multi-asset exchange traded funds. The firm also launches and manages hedge funds. It invests in the public equity, fixed income, real estate, currency, commodity, and alternative markets across the globe. The firm primarily invests in growth and value stocks of small-cap, mid-cap, SMID-cap, large-cap, and multi-cap companies. It also invests in dividend-paying equity securities. The firm invests in investment grade municipal securities, government securities including securities issued or guaranteed by a government or a government agency or instrumentality, corporate bonds, and asset-backed and mortgage-backed securities. It employs fundamental and quantitative analysis with a focus on bottom-up and top-down approach to make its investments. The firm employs liquidity, asset allocation, balanced, real estate, and alternative strategies to make its investments. In real estate sector, it seeks to invest in Poland and Germany. The firm benchmarks the performance of its portfolios against various S&P, Russell, Barclays, MSCI, Citigroup, and Merrill Lynch indices. BlackRock, Inc. was founded in 1988 and is based in New York City with additional offices in Boston, Massachusetts; London, United Kingdom; Gurgaon, India; Hong Kong; Greenwich, Connecticut; Princeton, New Jersey; Edinburgh, United Kingdom; Sydney, Australia; Taipei, Taiwan; Singapore; Sao Paulo, Brazil; Philadelphia, Pennsylvania; Washington, District of Columbia; Toronto, Canada; Wilmington, Delaware; and San Francisco, California.</td></tr><tr><td>BRK-B</td><td>Berkshire Hathaway Inc.</td><td>Financial Services</td><td>Insurance - Diversified</td><td>US</td><td>Warren E. Buffett</td><td>New York Stock Exchange</td><td>992590851052</td><td>459.11</td><td>https://www.berkshirehathaway.com</td><td>Berkshire Hathaway Inc., through its subsidiaries, engages in the insurance, freight rail transportation, and utility businesses worldwide. The company provides property, casualty, life, accident, and health insurance and reinsurance; and operates railroad systems in North America. It also generates, transmits, stores, and distributes electricity from natural gas, coal, wind, solar, hydroelectric, nuclear, and geothermal sources; operates natural gas distribution and storage facilities, interstate pipelines, liquefied natural gas facilities, and compressor and meter stations; and holds interest in coal mining assets. In addition, the company manufactures boxed chocolates and other confectionery products; specialty chemicals, metal cutting tools, and components for aerospace and power generation applications; flooring products; insulation, roofing, and engineered products; building and engineered components; paints and coatings; and bricks and masonry products, as well as offers manufactured and site-built home construction, and related lending and financial services. Further, it provides recreational vehicles, apparel and footwear products, jewelry, and custom picture framing products, as well as alkaline batteries; castings, forgings, fasteners/fastener systems, aerostructures, and precision components; and cobalt, nickel, and titanium alloys. Additionally, the company distributes televisions and information; franchises and services quick service restaurants; distributes electronic components; and offers logistics services, grocery and foodservice distribution services, and professional aviation training and shared aircraft ownership programs. It also retails automobiles; furniture, bedding, and accessories; household appliances, electronics, and computers; jewelry, watches, crystal, china, stemware, flatware, gifts, and collectibles; kitchenware; and motorcycle clothing and equipment. The company was incorporated in 1998 and is headquartered in Omaha, Nebraska.</td></tr><tr><td>C</td><td>Citigroup Inc.</td><td>Financial Services</td><td>Banks - Diversified</td><td>US</td><td>Jane Nind Fraser</td><td>New York Stock Exchange</td><td>171980578400</td><td>92.08</td><td>https://www.citigroup.com</td><td>Citigroup Inc., a diversified financial services holding company, provides various financial products and services to consumers, corporations, governments, and institutions in North America, Latin America, Asia, Europe, the Middle East, and Africa. The company operates in two segments, Global Consumer Banking (GCB) and Institutional Clients Group (ICG). The GCB segment offers traditional banking services to retail customers through retail banking, Citi-branded cards, and Citi retail services. It also provides various banking, credit card, lending, and investment services through a network of local branches, offices, and electronic delivery systems. The ICG segment offers wholesale banking products and services, including fixed income and equity sales and trading, foreign exchange, prime brokerage, derivative, equity and fixed income research, corporate lending, investment banking and advisory, private banking, cash management, trade finance, and securities services to corporate, institutional, public sector, and high-net-worth clients. As of December 31, 2020, it operated 2,303 branches primarily in the United States, Mexico, and Asia. Citigroup Inc. was founded in 1812 and is headquartered in New York, New York.</td></tr><tr><td>CAT</td><td>Caterpillar Inc.</td><td>Industrials</td><td>Agricultural - Machinery</td><td>US</td><td>Joseph E. Creed CPA</td><td>New York Stock Exchange</td><td>203975615500</td><td>433.7</td><td>https://www.caterpillar.com</td><td>Caterpillar Inc. manufactures and sells construction and mining equipment, diesel and natural gas engines, and industrial gas turbines worldwide. Its Construction Industries segment offers asphalt pavers, backhoe loaders, compactors, cold planers, compact track and multi-terrain loaders, excavators, motorgraders, pipelayers, road reclaimers, site prep tractors, skid steer loaders, telehandlers, and utility vehicles; mini, small, medium, and large excavators; compact, small, and medium wheel loaders; track-type tractors and loaders; and wheel excavators. The Resource Industries segment provides electric rope shovels, draglines, hydraulic shovels, rotary drills, hard rock vehicles, track-type tractors, mining trucks, longwall miners, wheel loaders, off-highway trucks, articulated trucks, wheel tractor scrapers, wheel dozers, fleet management, landfill compactors, soil compactors, machinery components, autonomous ready vehicles and solutions, select work tools, and safety services and mining performance solutions. The Energy & Transportation segment offers reciprocating engines, generator sets, integrated systems and solutions, turbines and turbine-related services, remanufactured reciprocating engines and components, centrifugal gas compressors, diesel-electric locomotives and components, and other rail-related products and services for marine, oil and gas, industrial, and electric power generation sectors. The company's Financial Products segment provides operating and finance leases, installment sale contracts, working capital loans, and wholesale financing plans; and insurance and risk management products for vehicles, power generation facilities, and marine vessels. The All Other operating segment manufactures filters and fluids, undercarriage, ground engaging tools, etc. The company was formerly known as Caterpillar Tractor Co. and changed its name to Caterpillar Inc. in 1986. The company was founded in 1925 and is headquartered in Deerfield, Illinois.</td></tr><tr><td>CVV</td><td>CVD Equipment Corporation</td><td>Industrials</td><td>Industrial - Machinery</td><td>US</td><td>Emmanuel N. Lakios</td><td>NASDAQ Capital Market</td><td>24499350</td><td>3.56</td><td>https://www.cvdequipment.com</td><td>CVD Equipment Corporation, together with its subsidiaries, designs, develops, manufactures, and sells process equipment and solutions that are used to develop and manufacture materials and coatings for research and industrial applications in the United States. It operates through three segments: CVD, SDC, and CVD Materials. The company offers chemical vapor deposition systems for use in the research, development, and manufacture of aerospace, medical components, semiconductors, LEDs, carbon nanotubes, nanowires, solar cells, and other industrial applications; and rapid thermal processing systems for use in implant activation, oxidation, silicide formation, and other processes. It also provides annealing, diffusion, and low pressure chemical vapor deposition furnaces for use in diffusion, oxidation, implant anneal, solder reflow, solar cell manufacturing, and other processes; and gas and liquid control systems, such as gas cylinder storage cabinets, custom gas and chemical delivery systems, gas and liquid valve manifold boxes, and gas isolation boxes for semiconductor fabrication processes, solar cells, LEDs, carbon nanotubes, nanowires, and industrial applications. In addition, the company offers standard and custom fabricated quartz-ware used in its equipment and other customer tools, as well as repair and replacement services for existing quartz-ware. Further, it provides MesoPlasma direct write printing, a materials deposition process that provides instrumentation, fine feature patterns, and coatings onto conformal components; and Tantaline corrosion resistant coating for valves, fittings, fasteners, vessels, bellows, and custom designed items, as well as offers carbon composites and electronic materials. The company sells its products primarily to aerospace/defense, medical, electronic component manufacturers, universities, and government and industrial laboratories. The company was incorporated in 1982 and is headquartered in Central Islip, New York.</td></tr><tr><td>CVX</td><td>Chevron Corporation</td><td>Energy</td><td>Oil & Gas Integrated</td><td>US</td><td>Michael K. Wirth</td><td>New York Stock Exchange</td><td>309237785600</td><td>151.04</td><td>https://www.chevron.com</td><td>Chevron Corporation, through its subsidiaries, engages in integrated energy and chemicals operations worldwide. The company operates in two segments, Upstream and Downstream. The Upstream segment is involved in the exploration, development, production, and transportation of crude oil and natural gas; processing, liquefaction, transportation, and regasification associated with liquefied natural gas; transportation of crude oil through pipelines; and transportation, storage, and marketing of natural gas, as well as operates a gas-to-liquids plant. The Downstream segment engages in refining crude oil into petroleum products; marketing crude oil, refined products, and lubricants; manufacturing and marketing of renewable fuels; transporting crude oil and refined products by pipeline, marine vessel, motor equipment, and rail car; and manufacturing and marketing of commodity petrochemicals, plastics for industrial uses, and fuel and lubricant additives. It is also involved in the cash management and debt financing activities; insurance operations; real estate activities; and technology businesses. The company was formerly known as ChevronTexaco Corporation and changed its name to Chevron Corporation in 2005. Chevron Corporation was founded in 1879 and is based in San Ramon, California.</td></tr><tr><td>DHR</td><td>Danaher Corporation</td><td>Healthcare</td><td>Medical - Diagnostics & Research</td><td>US</td><td>Rainer M. Blair</td><td>New York Stock Exchange</td><td>141391627920</td><td>197.46</td><td>https://www.danaher.com</td><td>Danaher Corporation designs, manufactures, and markets professional, medical, industrial, and commercial products and services worldwide. The company operates through three segments: Life Sciences, Diagnostics, and Environmental & Applied Solutions. The Life Sciences segment provides mass spectrometers; flow cytometry, genomics, lab automation, centrifugation, particle counting and characterization; microscopes; genomics consumables; and Gene and Cell Therapy. This segment also offers bioprocess technologies, consumables, and services; and filtration, separation, and purification technologies to the pharmaceutical and biopharmaceutical, food and beverage, medical, and life sciences companies, as well as universities, medical schools and research institutions, and various industrial manufacturers. The Diagnostics segment provides chemistry, immunoassay, microbiology, and automation systems, as well as hematology, molecular, acute care, and pathology diagnostics products. This segment offers clinical instruments, reagents, consumables, software, and services for hospitals, physicians' offices, reference laboratories, and other critical care settings. The Environmental & Applied Solutions segment offers instrumentation, consumables, software, services, and disinfection systems to analyze, treat, and manage ultra-pure, potable, industrial, waste, ground, source, and ocean water in residential, commercial, industrial, and natural resource applications. This segment also provides instruments, software, services, and consumables for various color and appearance management, packaging design and quality management, packaging converting, printing, marking, coding, and traceability applications for consumer, pharmaceutical, and industrial products. The company was formerly known as Diversified Mortgage Investors, Inc. and changed its name to Danaher Corporation in 1984. Danaher Corporation was founded in 1969 and is headquartered in Washington, the District of Columbia.</td></tr><tr><td>DIS</td><td>The Walt Disney Company</td><td>Communication Services</td><td>Entertainment</td><td>US</td><td>Robert A. Iger</td><td>New York Stock Exchange</td><td>214561462500</td><td>119.35</td><td>https://www.thewaltdisneycompany.com</td><td>The Walt Disney Company, together with its subsidiaries, operates as an entertainment company worldwide. It operates through two segments, Disney Media and Entertainment Distribution; and Disney Parks, Experiences and Products. The company engages in the film and episodic television content production and distribution activities, as well as operates television broadcast networks under the ABC, Disney, ESPN, Freeform, FX, Fox, National Geographic, and Star brands; and studios that produces motion pictures under the Walt Disney Pictures, Twentieth Century Studios, Marvel, Lucasfilm, Pixar, and Searchlight Pictures banners. It also offers direct-to-consumer streaming services through Disney+, Disney+ Hotstar, ESPN+, Hulu, and Star+; sale/licensing of film and television content to third-party television and subscription video-on-demand services; theatrical, home entertainment, and music distribution services; staging and licensing of live entertainment events; and post-production services by Industrial Light & Magic and Skywalker Sound. In addition, the company operates theme parks and resorts, such as Walt Disney World Resort in Florida; Disneyland Resort in California; Disneyland Paris; Hong Kong Disneyland Resort; and Shanghai Disney Resort; Disney Cruise Line, Disney Vacation Club, National Geographic Expeditions, and Adventures by Disney as well as Aulani, a Disney resort and spa in Hawaii; licenses its intellectual property to a third party for the operations of the Tokyo Disney Resort; and provides consumer products, which include licensing of trade names, characters, visual, literary, and other IP for use on merchandise, published materials, and games. Further, it sells branded merchandise through retail, online, and wholesale businesses; and develops and publishes books, comic books, and magazines. The Walt Disney Company was founded in 1923 and is based in Burbank, California.</td></tr><tr><td>GILD</td><td>Gilead Sciences, Inc.</td><td>Healthcare</td><td>Drug Manufacturers - General</td><td>US</td><td>Daniel P. O'Day</td><td>NASDAQ Global Select</td><td>142442424300</td><td>114.51</td><td>https://www.gilead.com</td><td>Gilead Sciences, Inc., a biopharmaceutical company, discovers, develops, and commercializes medicines in the areas of unmet medical need in the United States, Europe, and internationally. The company provides Biktarvy, Genvoya, Descovy, Odefsey, Truvada, Complera/ Eviplera, Stribild, and Atripla products for the treatment of HIV/AIDS; Veklury, an injection for intravenous use, for the treatment of coronavirus disease 2019; and Epclusa, Harvoni, Vosevi, Vemlidy, and Viread for the treatment of liver diseases. It also offers Yescarta, Tecartus, Trodelvy, and Zydelig products for the treatment of hematology, oncology, and cell therapy patients. In addition, the company provides Letairis, an oral formulation for the treatment of pulmonary arterial hypertension; Ranexa, an oral formulation for the treatment of chronic angina; and AmBisome, a liposomal formulation for the treatment of serious invasive fungal infections. Gilead Sciences, Inc. has collaboration agreements with Arcus Biosciences, Inc.; Pionyr Immunotherapeutics Inc.; Tizona Therapeutics, Inc.; Tango Therapeutics, Inc.; Jounce Therapeutics, Inc.; Galapagos NV; Janssen Sciences Ireland Unlimited Company; Japan Tobacco, Inc.; Gadeta B.V.; Bristol-Myers Squibb Company; Dragonfly Therapeutics, Inc.; and Merck & Co, Inc. The company was incorporated in 1987 and is headquartered in Foster City, California.</td></tr><tr><td>GIS</td><td>General Mills, Inc.</td><td>Consumer Defensive</td><td>Packaged Foods</td><td>US</td><td>Jeffrey L. Harmening</td><td>New York Stock Exchange</td><td>26589820560</td><td>49.02</td><td>https://www.generalmills.com</td><td>General Mills, Inc. manufactures and markets branded consumer foods worldwide. The company operates in five segments: North America Retail; Convenience Stores & Foodservice; Europe & Australia; Asia & Latin America; and Pet. It offers ready-to-eat cereals, refrigerated yogurt, soup, meal kits, refrigerated and frozen dough products, dessert and baking mixes, bakery flour, frozen pizza and pizza snacks, snack bars, fruit and salty snacks, ice cream, nutrition bars, wellness beverages, and savory and grain snacks, as well as various organic products, including frozen and shelf-stable vegetables. It also supplies branded and unbranded food products to the North American foodservice and commercial baking industries; and manufactures and markets pet food products, including dog and cat food. The company markets its products under the Annie's, Betty Crocker, Bisquick, Blue Buffalo, Blue Basics, Blue Freedom, Bugles, Cascadian Farm, Cheerios, Chex, Cinnamon Toast Crunch, Cocoa Puffs, Cookie Crisp, EPIC, Fiber One, Food Should Taste Good, Fruit by the Foot, Fruit Gushers, Fruit Roll-Ups, Gardetto's, Go-Gurt, Gold Medal, Golden Grahams, Häagen-Dazs, Helpers, Jus-Rol, Kitano, Kix, Lärabar, Latina, Liberté, Lucky Charms, Muir Glen, Nature Valley, Oatmeal Crisp, Old El Paso, Oui, Pillsbury, Progresso, Raisin Nut Bran, Total, Totino's, Trix, Wanchai Ferry, Wheaties, Wilderness, Yoki, and Yoplait trademarks. It sells its products directly, as well as through broker and distribution arrangements to grocery stores, mass merchandisers, membership stores, natural food chains, e-commerce retailers, commercial and noncommercial foodservice distributors and operators, restaurants, convenience stores, and pet specialty stores, as well as drug, dollar, and discount chains. The company operates 466 leased and 392 franchise ice cream parlors. General Mills, Inc. was founded in 1866 and is headquartered in Minneapolis, Minnesota.</td></tr><tr><td>GOOGL</td><td>Alphabet Inc.</td><td>Communication Services</td><td>Internet Content & Information</td><td>US</td><td>Sundar Pichai</td><td>NASDAQ Global Select</td><td>2363795592800</td><td>195.04</td><td>https://www.abc.xyz</td><td>Alphabet Inc. provides various products and platforms in the United States, Europe, the Middle East, Africa, the Asia-Pacific, Canada, and Latin America. It operates through Google Services, Google Cloud, and Other Bets segments. The Google Services segment offers products and services, including ads, Android, Chrome, hardware, Gmail, Google Drive, Google Maps, Google Photos, Google Play, Search, and YouTube. It is also involved in the sale of apps and in-app purchases and digital content in the Google Play store; and Fitbit wearable devices, Google Nest home products, Pixel phones, and other devices, as well as in the provision of YouTube non-advertising services. The Google Cloud segment offers infrastructure, platform, and other services; Google Workspace that include cloud-based collaboration tools for enterprises, such as Gmail, Docs, Drive, Calendar, and Meet; and other services for enterprise customers. The Other Bets segment sells health technology and internet services. The company was founded in 1998 and is headquartered in Mountain View, California.</td></tr><tr><td>HON</td><td>Honeywell International Inc.</td><td>Industrials</td><td>Conglomerates</td><td>US</td><td>Vimal M. Kapur</td><td>NASDAQ Global Select</td><td>140178908630</td><td>220.79</td><td>https://www.honeywell.com</td><td>Honeywell International Inc. operates as a diversified technology and manufacturing company worldwide. Its Aerospace segment offers auxiliary power units, propulsion engines, integrated avionics, environmental control and electric power systems, engine controls, flight safety, communications, navigation hardware, data and software applications, radar and surveillance systems, aircraft lighting, advanced systems and instruments, satellite and space components, and aircraft wheels and brakes; spare parts; repair, overhaul, and maintenance services; thermal systems, as well as wireless connectivity and management services. The company's Honeywell Building Technologies segment offers software applications for building control and optimization; sensors, switches, control systems, and instruments for energy management; access control; video surveillance; fire products; and installation, maintenance, and upgrades of systems. Its Performance Materials and Technologies segment offers automation control, instrumentation, and software and related services; catalysts and adsorbents, equipment, and consulting; and materials to manufacture end products, such as bullet-resistant armor, nylon, computer chips, and pharmaceutical packaging, as well as provides reduced and low global-warming-potential materials based on hydrofluoro-olefin technology. The company's Safety and Productivity Solutions segment provides personal protection equipment, apparel, gear, and footwear; gas detection technology; cloud-based notification and emergency messaging; mobile devices and software; supply chain and warehouse automation equipment, and software solutions; custom-engineered sensors, switches, and controls; and data and asset management productivity software solutions. The company was founded in 1906 and is headquartered in Charlotte, North Carolina.</td></tr><tr><td>IBM</td><td>International Business Machines Corporation</td><td>Technology</td><td>Information Technology Services</td><td>US</td><td>Arvind Krishna</td><td>New York Stock Exchange</td><td>234724157620</td><td>251.98</td><td>https://www.ibm.com</td><td>International Business Machines Corporation provides integrated solutions and services worldwide. The company operates through four business segments: Software, Consulting, Infrastructure, and Financing. The Software segment offers hybrid cloud platform and software solutions, such as Red Hat, an enterprise open-source solutions; software for business automation, AIOps and management, integration, and application servers; data and artificial intelligence solutions; and security software and services for threat, data, and identity. This segment also provides transaction processing software that supports clients' mission-critical and on-premise workloads in banking, airlines, and retail industries. The Consulting segment offers business transformation services, including strategy, business process design and operations, data and analytics, and system integration services; technology consulting services; and application and cloud platform services. The Infrastructure segment provides on-premises and cloud-based server and storage solutions for its clients' mission-critical and regulated workloads; and support services and solutions for hybrid cloud infrastructure, as well as remanufacturing and remarketing services for used equipment. The Financing segment offers lease, installment payment, loan financing, and short-term working capital financing services. The company was formerly known as Computing-Tabulating-Recording Co. International Business Machines Corporation was incorporated in 1911 and is headquartered in Armonk, New York.</td></tr><tr><td>JNJ</td><td>Johnson & Johnson</td><td>Healthcare</td><td>Drug Manufacturers - General</td><td>US</td><td>Joaquin Duato</td><td>New York Stock Exchange</td><td>411922473600</td><td>171.04</td><td>https://www.jnj.com</td><td>Johnson & Johnson, together with its subsidiaries, researches and develops, manufactures, and sells various products in the healthcare field worldwide. The company's Consumer Health segment offers baby care products under the JOHNSON'S and AVEENO Baby brands; oral care products under the LISTERINE brand; skin health/beauty products under the AVEENO, CLEAN & CLEAR, DR. CI:LABO, NEUTROGENA, and OGX brands; TYLENOL acetaminophen products; SUDAFED cold, flu, and allergy products; BENADRYL and ZYRTEC allergy products; MOTRIN IB ibuprofen products; NICORETTE smoking cessation products; and PEPCID acid reflux products. It also offers STAYFREE and CAREFREE sanitary pads; o.b. tampons; adhesive bandages under the BAND-AID brand; and first aid products under the NEOSPORIN brand. It serves general public, retail outlets, and distributors. The company's Pharmaceutical segment offers products for rheumatoid arthritis, psoriatic arthritis, inflammatory bowel disease, and psoriasis; HIV/AIDS and COVID-19 infectious diseases; mood disorders, neurodegenerative disorders, and schizophrenia; prostate cancer, hematologic malignancies, lung cancer, and bladder cancer; thrombosis, diabetes and macular degeneration; and pulmonary arterial hypertension. This segment serves retailers, wholesalers, distributors, hospitals, and healthcare professionals directly for prescription use. Its MedTech segment provides electrophysiology products to treat cardiovascular diseases; neurovascular care products to treat hemorrhagic and ischemic stroke; orthopaedics products in support of hips, knees, trauma, spine, sports, and other; advanced and general surgery solutions that focus on breast aesthetics, ear, nose, and throat procedures; and disposable contact lenses and ophthalmic products related to cataract and laser refractive surgery under the ACUVUE brand. This segment serves wholesalers, hospitals, and retailers. The company was founded in 1886 and is based in New Brunswick, New Jersey.</td></tr></tbody></table></div>"
      ]
     },
     "metadata": {
      "application/vnd.databricks.v1+output": {
       "addedWidgets": {},
       "aggData": [],
       "aggError": "",
       "aggOverflow": false,
       "aggSchema": [],
       "aggSeriesLimitReached": false,
       "aggType": "",
       "arguments": {},
       "columnCustomDisplayInfos": {},
       "data": [
        [
         "AAPL",
         "Apple Inc.",
         "Technology",
         "Consumer Electronics",
         "US",
         "Timothy D. Cook",
         "NASDAQ Global Select",
         3037194930000,
         203.35,
         "https://www.apple.com",
         "Apple Inc. designs, manufactures, and markets smartphones, personal computers, tablets, wearables, and accessories worldwide. The company offers iPhone, a line of smartphones; Mac, a line of personal computers; iPad, a line of multi-purpose tablets; and wearables, home, and accessories comprising AirPods, Apple TV, Apple Watch, Beats products, and HomePod. It also provides AppleCare support and cloud services; and operates various platforms, including the App Store that allow customers to discover and download applications and digital content, such as books, music, video, games, and podcasts, as well as advertising services include third-party licensing arrangements and its own advertising platforms. In addition, the company offers various subscription-based services, such as Apple Arcade, a game subscription service; Apple Fitness+, a personalized fitness service; Apple Music, which offers users a curated listening experience with on-demand radio stations; Apple News+, a subscription news and magazine service; Apple TV+, which offers exclusive original content; Apple Card, a co-branded credit card; and Apple Pay, a cashless payment service, as well as licenses its intellectual property. The company serves consumers, and small and mid-sized businesses; and the education, enterprise, and government markets. It distributes third-party applications for its products through the App Store. The company also sells its products through its retail and online stores, and direct sales force; and third-party cellular network carriers, wholesalers, retailers, and resellers. Apple Inc. was founded in 1976 and is headquartered in Cupertino, California."
        ],
        [
         "ADBE",
         "Adobe Inc.",
         "Technology",
         "Software - Infrastructure",
         "US",
         "Shantanu Narayen",
         "NASDAQ Global Select",
         143740170000,
         338.85,
         "https://www.adobe.com",
         "Adobe Inc. operates as a diversified software company worldwide. It operates through three segments: Digital Media, Digital Experience, and Publishing and Advertising. The Digital Media segment offers products, services, and solutions that enable individuals, teams, and enterprises to create, publish, and promote content; and Document Cloud, a unified cloud-based document services platform. Its flagship product is Creative Cloud, a subscription service that allows members to access its creative products. This segment serves content creators, workers, marketers, educators, enthusiasts, communicators, and consumers. The Digital Experience segment provides an integrated platform and set of applications and services that enable brands and businesses to create, manage, execute, measure, monetize, and optimize customer experiences from analytics to commerce. This segment serves marketers, advertisers, agencies, publishers, merchandisers, merchants, web analysts, data scientists, developers, and executives across the C-suite. The Publishing and Advertising segment offers products and services, such as e-learning solutions, technical document publishing, web conferencing, document and forms platform, web application development, and high-end printing, as well as Advertising Cloud offerings. The company offers its products and services directly to enterprise customers through its sales force and local field offices, as well as to end users through app stores and through its website at adobe.com. It also distributes products and services through a network of distributors, value-added resellers, systems integrators, software vendors and developers, retailers, and original equipment manufacturers. The company was formerly known as Adobe Systems Incorporated and changed its name to Adobe Inc. in October 2018. Adobe Inc. was founded in 1982 and is headquartered in San Jose, California."
        ],
        [
         "ADP",
         "Automatic Data Processing, Inc.",
         "Industrials",
         "Staffing & Employment Services",
         "US",
         "Maria Black",
         "NASDAQ Global Select",
         122694285980,
         302.26,
         "https://www.adp.com",
         "Automatic Data Processing, Inc. provides cloud-based human capital management solutions worldwide. It operates in two segments, Employer Services and Professional Employer Organization (PEO). The Employer Services segment offers strategic, cloud-based platforms, and human resources (HR) outsourcing solutions. Its offerings include payroll, benefits administration, talent management, HR management, workforce management, insurance, retirement, and compliance services, as well as integrated HCM solutions. The PEO Services segment provides HR outsourcing solutions to small and mid-sized businesses through a co-employment model. This segment offers benefits package, protection and compliance, talent engagement, expertise, comprehensive outsourcing, and recruitment process outsourcing services. The company was founded in 1949 and is headquartered in Roseland, New Jersey."
        ],
        [
         "AMGN",
         "Amgen Inc.",
         "Healthcare",
         "Drug Manufacturers - General",
         "US",
         "Robert A. Bradway",
         "NASDAQ Global Select",
         162354949640,
         301.94,
         "https://www.amgen.com",
         "Amgen Inc. discovers, develops, manufactures, and delivers human therapeutics worldwide. It focuses on inflammation, oncology/hematology, bone health, cardiovascular disease, nephrology, and neuroscience areas. The company's products include Enbrel to treat plaque psoriasis, rheumatoid arthritis, and psoriatic arthritis; Neulasta that reduces the chance of infection due a low white blood cell count in patients cancer; Prolia to treat postmenopausal women with osteoporosis; Xgeva for skeletal-related events prevention; Otezla for the treatment of adult patients with plaque psoriasis, psoriatic arthritis, and oral ulcers associated with Behçet's disease; Aranesp to treat a lower-than-normal number of red blood cells and anemia; KYPROLIS to treat patients with relapsed or refractory multiple myeloma; and Repatha, which reduces the risks of myocardial infarction, stroke, and coronary revascularization. It also markets Nplate, Vectibix, MVASI, Parsabiv, EPOGEN, KANJINTI, BLINCYTO, Aimovig, EVENITY, AMGEVITATM, Sensipar/Mimpara, NEUPOGEN, IMLYGIC, Corlanor, and AVSOLA. Amgen Inc. serves healthcare providers, including physicians or their clinics, dialysis centers, hospitals, and pharmacies. It distributes its products through pharmaceutical wholesale distributors, as well as direct-to-consumer channels. It has collaboration agreements with Novartis Pharma AG; UCB; Bayer HealthCare LLC; BeiGene, Ltd.; Eli Lilly and Company; Datos Health; and Verastem, Inc. to evaluate VS-6766 in combination with lumakrastm (Sotorasib) in patients with KRAS G12C-mutant non-small cell lung cancer. It has an agreement with Kyowa Kirin Co., Ltd. to jointly develop and commercialize KHK4083, a Phase 3-ready anti-OX40 fully human monoclonal antibody for the treatment of atopic dermatitis and other autoimmune diseases; and research and development collaboration with Neumora Therapeutics, Inc. and Plexium, Inc. Amgen Inc. was incorporated in 1980 and is headquartered in Thousand Oaks, California."
        ],
        [
         "AMZN",
         "Amazon.com, Inc.",
         "Consumer Cyclical",
         "Specialty Retail",
         "US",
         "Andrew R. Jassy",
         "NASDAQ Global Select",
         2246961060000,
         211.65,
         "https://www.amazon.com",
         "Amazon.com, Inc. engages in the retail sale of consumer products and subscriptions through online and physical stores in North America and internationally. The company operates through three segments: North America, International, and Amazon Web Services (AWS). Its products offered through its stores include merchandise and content purchased for resale; and products offered by third-party sellers The company also manufactures and sells electronic devices, including Kindle, Fire tablets, Fire TVs, Rings, Blink, eero, and Echo; and develops and produces media content. In addition, it offers programs that enable sellers to sell their products in its stores; and programs that allow authors, musicians, filmmakers, Twitch streamers, skill and app developers, and others to publish and sell content. Further, the company provides compute, storage, database, analytics, machine learning, and other services, as well as fulfillment, advertising, and digital content subscriptions. Additionally, it offers Amazon Prime, a membership program. The company serves consumers, sellers, developers, enterprises, content creators, and advertisers. Amazon.com, Inc. was incorporated in 1994 and is headquartered in Seattle, Washington."
        ],
        [
         "AVGO",
         "Broadcom Inc.",
         "Technology",
         "Semiconductors",
         "US",
         "Hock E. Tan",
         "NASDAQ Global Select",
         1400317088400,
         297.72,
         "https://www.broadcom.com",
         "Broadcom Inc. designs, develops, and supplies various semiconductor devices with a focus on complex digital and mixed signal complementary metal oxide semiconductor based devices and analog III-V based products worldwide. The company operates in two segments, Semiconductor Solutions and Infrastructure Software. It provides set-top box system-on-chips (SoCs); cable, digital subscriber line, and passive optical networking central office/consumer premise equipment SoCs; wireless local area network access point SoCs; Ethernet switching and routing merchant silicon products; embedded processors and controllers; serializer/deserializer application specific integrated circuits; optical and copper, and physical layers; and fiber optic transmitter and receiver components. The company also offers RF front end modules, filters, and power amplifiers; Wi-Fi, Bluetooth, and global positioning system/global navigation satellite system SoCs; custom touch controllers; serial attached small computer system interface, and redundant array of independent disks controllers and adapters; peripheral component interconnect express switches; fiber channel host bus adapters; read channel based SoCs; custom flash controllers; preamplifiers; and optocouplers, industrial fiber optics, and motion control encoders and subsystems. Its products are used in various applications, including enterprise and data center networking, home connectivity, set-top boxes, broadband access, telecommunication equipment, smartphones and base stations, data center servers and storage systems, factory automation, power generation and alternative energy systems, and electronic displays. Broadcom Inc. was incorporated in 2018 and is headquartered in San Jose, California."
        ],
        [
         "BLK",
         "BlackRock, Inc.",
         "Financial Services",
         "Asset Management",
         "US",
         "Laurence Douglas Fink",
         "New York Stock Exchange",
         172906711560,
         1116.06,
         "https://www.blackrock.com",
         "BlackRock, Inc. is a publicly owned investment manager. The firm primarily provides its services to institutional, intermediary, and individual investors including corporate, public, union, and industry pension plans, insurance companies, third-party mutual funds, endowments, public institutions, governments, foundations, charities, sovereign wealth funds, corporations, official institutions, and banks. It also provides global risk management and advisory services. The firm manages separate client-focused equity, fixed income, and balanced portfolios. It also launches and manages open-end and closed-end mutual funds, offshore funds, unit trusts, and alternative investment vehicles including structured funds. The firm launches equity, fixed income, balanced, and real estate mutual funds. It also launches equity, fixed income, balanced, currency, commodity, and multi-asset exchange traded funds. The firm also launches and manages hedge funds. It invests in the public equity, fixed income, real estate, currency, commodity, and alternative markets across the globe. The firm primarily invests in growth and value stocks of small-cap, mid-cap, SMID-cap, large-cap, and multi-cap companies. It also invests in dividend-paying equity securities. The firm invests in investment grade municipal securities, government securities including securities issued or guaranteed by a government or a government agency or instrumentality, corporate bonds, and asset-backed and mortgage-backed securities. It employs fundamental and quantitative analysis with a focus on bottom-up and top-down approach to make its investments. The firm employs liquidity, asset allocation, balanced, real estate, and alternative strategies to make its investments. In real estate sector, it seeks to invest in Poland and Germany. The firm benchmarks the performance of its portfolios against various S&P, Russell, Barclays, MSCI, Citigroup, and Merrill Lynch indices. BlackRock, Inc. was founded in 1988 and is based in New York City with additional offices in Boston, Massachusetts; London, United Kingdom; Gurgaon, India; Hong Kong; Greenwich, Connecticut; Princeton, New Jersey; Edinburgh, United Kingdom; Sydney, Australia; Taipei, Taiwan; Singapore; Sao Paulo, Brazil; Philadelphia, Pennsylvania; Washington, District of Columbia; Toronto, Canada; Wilmington, Delaware; and San Francisco, California."
        ],
        [
         "BRK-B",
         "Berkshire Hathaway Inc.",
         "Financial Services",
         "Insurance - Diversified",
         "US",
         "Warren E. Buffett",
         "New York Stock Exchange",
         992590851052,
         459.11,
         "https://www.berkshirehathaway.com",
         "Berkshire Hathaway Inc., through its subsidiaries, engages in the insurance, freight rail transportation, and utility businesses worldwide. The company provides property, casualty, life, accident, and health insurance and reinsurance; and operates railroad systems in North America. It also generates, transmits, stores, and distributes electricity from natural gas, coal, wind, solar, hydroelectric, nuclear, and geothermal sources; operates natural gas distribution and storage facilities, interstate pipelines, liquefied natural gas facilities, and compressor and meter stations; and holds interest in coal mining assets. In addition, the company manufactures boxed chocolates and other confectionery products; specialty chemicals, metal cutting tools, and components for aerospace and power generation applications; flooring products; insulation, roofing, and engineered products; building and engineered components; paints and coatings; and bricks and masonry products, as well as offers manufactured and site-built home construction, and related lending and financial services. Further, it provides recreational vehicles, apparel and footwear products, jewelry, and custom picture framing products, as well as alkaline batteries; castings, forgings, fasteners/fastener systems, aerostructures, and precision components; and cobalt, nickel, and titanium alloys. Additionally, the company distributes televisions and information; franchises and services quick service restaurants; distributes electronic components; and offers logistics services, grocery and foodservice distribution services, and professional aviation training and shared aircraft ownership programs. It also retails automobiles; furniture, bedding, and accessories; household appliances, electronics, and computers; jewelry, watches, crystal, china, stemware, flatware, gifts, and collectibles; kitchenware; and motorcycle clothing and equipment. The company was incorporated in 1998 and is headquartered in Omaha, Nebraska."
        ],
        [
         "C",
         "Citigroup Inc.",
         "Financial Services",
         "Banks - Diversified",
         "US",
         "Jane Nind Fraser",
         "New York Stock Exchange",
         171980578400,
         92.08,
         "https://www.citigroup.com",
         "Citigroup Inc., a diversified financial services holding company, provides various financial products and services to consumers, corporations, governments, and institutions in North America, Latin America, Asia, Europe, the Middle East, and Africa. The company operates in two segments, Global Consumer Banking (GCB) and Institutional Clients Group (ICG). The GCB segment offers traditional banking services to retail customers through retail banking, Citi-branded cards, and Citi retail services. It also provides various banking, credit card, lending, and investment services through a network of local branches, offices, and electronic delivery systems. The ICG segment offers wholesale banking products and services, including fixed income and equity sales and trading, foreign exchange, prime brokerage, derivative, equity and fixed income research, corporate lending, investment banking and advisory, private banking, cash management, trade finance, and securities services to corporate, institutional, public sector, and high-net-worth clients. As of December 31, 2020, it operated 2,303 branches primarily in the United States, Mexico, and Asia. Citigroup Inc. was founded in 1812 and is headquartered in New York, New York."
        ],
        [
         "CAT",
         "Caterpillar Inc.",
         "Industrials",
         "Agricultural - Machinery",
         "US",
         "Joseph E. Creed CPA",
         "New York Stock Exchange",
         203975615500,
         433.7,
         "https://www.caterpillar.com",
         "Caterpillar Inc. manufactures and sells construction and mining equipment, diesel and natural gas engines, and industrial gas turbines worldwide. Its Construction Industries segment offers asphalt pavers, backhoe loaders, compactors, cold planers, compact track and multi-terrain loaders, excavators, motorgraders, pipelayers, road reclaimers, site prep tractors, skid steer loaders, telehandlers, and utility vehicles; mini, small, medium, and large excavators; compact, small, and medium wheel loaders; track-type tractors and loaders; and wheel excavators. The Resource Industries segment provides electric rope shovels, draglines, hydraulic shovels, rotary drills, hard rock vehicles, track-type tractors, mining trucks, longwall miners, wheel loaders, off-highway trucks, articulated trucks, wheel tractor scrapers, wheel dozers, fleet management, landfill compactors, soil compactors, machinery components, autonomous ready vehicles and solutions, select work tools, and safety services and mining performance solutions. The Energy & Transportation segment offers reciprocating engines, generator sets, integrated systems and solutions, turbines and turbine-related services, remanufactured reciprocating engines and components, centrifugal gas compressors, diesel-electric locomotives and components, and other rail-related products and services for marine, oil and gas, industrial, and electric power generation sectors. The company's Financial Products segment provides operating and finance leases, installment sale contracts, working capital loans, and wholesale financing plans; and insurance and risk management products for vehicles, power generation facilities, and marine vessels. The All Other operating segment manufactures filters and fluids, undercarriage, ground engaging tools, etc. The company was formerly known as Caterpillar Tractor Co. and changed its name to Caterpillar Inc. in 1986. The company was founded in 1925 and is headquartered in Deerfield, Illinois."
        ],
        [
         "CVV",
         "CVD Equipment Corporation",
         "Industrials",
         "Industrial - Machinery",
         "US",
         "Emmanuel N. Lakios",
         "NASDAQ Capital Market",
         24499350,
         3.56,
         "https://www.cvdequipment.com",
         "CVD Equipment Corporation, together with its subsidiaries, designs, develops, manufactures, and sells process equipment and solutions that are used to develop and manufacture materials and coatings for research and industrial applications in the United States. It operates through three segments: CVD, SDC, and CVD Materials. The company offers chemical vapor deposition systems for use in the research, development, and manufacture of aerospace, medical components, semiconductors, LEDs, carbon nanotubes, nanowires, solar cells, and other industrial applications; and rapid thermal processing systems for use in implant activation, oxidation, silicide formation, and other processes. It also provides annealing, diffusion, and low pressure chemical vapor deposition furnaces for use in diffusion, oxidation, implant anneal, solder reflow, solar cell manufacturing, and other processes; and gas and liquid control systems, such as gas cylinder storage cabinets, custom gas and chemical delivery systems, gas and liquid valve manifold boxes, and gas isolation boxes for semiconductor fabrication processes, solar cells, LEDs, carbon nanotubes, nanowires, and industrial applications. In addition, the company offers standard and custom fabricated quartz-ware used in its equipment and other customer tools, as well as repair and replacement services for existing quartz-ware. Further, it provides MesoPlasma direct write printing, a materials deposition process that provides instrumentation, fine feature patterns, and coatings onto conformal components; and Tantaline corrosion resistant coating for valves, fittings, fasteners, vessels, bellows, and custom designed items, as well as offers carbon composites and electronic materials. The company sells its products primarily to aerospace/defense, medical, electronic component manufacturers, universities, and government and industrial laboratories. The company was incorporated in 1982 and is headquartered in Central Islip, New York."
        ],
        [
         "CVX",
         "Chevron Corporation",
         "Energy",
         "Oil & Gas Integrated",
         "US",
         "Michael K. Wirth",
         "New York Stock Exchange",
         309237785600,
         151.04,
         "https://www.chevron.com",
         "Chevron Corporation, through its subsidiaries, engages in integrated energy and chemicals operations worldwide. The company operates in two segments, Upstream and Downstream. The Upstream segment is involved in the exploration, development, production, and transportation of crude oil and natural gas; processing, liquefaction, transportation, and regasification associated with liquefied natural gas; transportation of crude oil through pipelines; and transportation, storage, and marketing of natural gas, as well as operates a gas-to-liquids plant. The Downstream segment engages in refining crude oil into petroleum products; marketing crude oil, refined products, and lubricants; manufacturing and marketing of renewable fuels; transporting crude oil and refined products by pipeline, marine vessel, motor equipment, and rail car; and manufacturing and marketing of commodity petrochemicals, plastics for industrial uses, and fuel and lubricant additives. It is also involved in the cash management and debt financing activities; insurance operations; real estate activities; and technology businesses. The company was formerly known as ChevronTexaco Corporation and changed its name to Chevron Corporation in 2005. Chevron Corporation was founded in 1879 and is based in San Ramon, California."
        ],
        [
         "DHR",
         "Danaher Corporation",
         "Healthcare",
         "Medical - Diagnostics & Research",
         "US",
         "Rainer M. Blair",
         "New York Stock Exchange",
         141391627920,
         197.46,
         "https://www.danaher.com",
         "Danaher Corporation designs, manufactures, and markets professional, medical, industrial, and commercial products and services worldwide. The company operates through three segments: Life Sciences, Diagnostics, and Environmental & Applied Solutions. The Life Sciences segment provides mass spectrometers; flow cytometry, genomics, lab automation, centrifugation, particle counting and characterization; microscopes; genomics consumables; and Gene and Cell Therapy. This segment also offers bioprocess technologies, consumables, and services; and filtration, separation, and purification technologies to the pharmaceutical and biopharmaceutical, food and beverage, medical, and life sciences companies, as well as universities, medical schools and research institutions, and various industrial manufacturers. The Diagnostics segment provides chemistry, immunoassay, microbiology, and automation systems, as well as hematology, molecular, acute care, and pathology diagnostics products. This segment offers clinical instruments, reagents, consumables, software, and services for hospitals, physicians' offices, reference laboratories, and other critical care settings. The Environmental & Applied Solutions segment offers instrumentation, consumables, software, services, and disinfection systems to analyze, treat, and manage ultra-pure, potable, industrial, waste, ground, source, and ocean water in residential, commercial, industrial, and natural resource applications. This segment also provides instruments, software, services, and consumables for various color and appearance management, packaging design and quality management, packaging converting, printing, marking, coding, and traceability applications for consumer, pharmaceutical, and industrial products. The company was formerly known as Diversified Mortgage Investors, Inc. and changed its name to Danaher Corporation in 1984. Danaher Corporation was founded in 1969 and is headquartered in Washington, the District of Columbia."
        ],
        [
         "DIS",
         "The Walt Disney Company",
         "Communication Services",
         "Entertainment",
         "US",
         "Robert A. Iger",
         "New York Stock Exchange",
         214561462500,
         119.35,
         "https://www.thewaltdisneycompany.com",
         "The Walt Disney Company, together with its subsidiaries, operates as an entertainment company worldwide. It operates through two segments, Disney Media and Entertainment Distribution; and Disney Parks, Experiences and Products. The company engages in the film and episodic television content production and distribution activities, as well as operates television broadcast networks under the ABC, Disney, ESPN, Freeform, FX, Fox, National Geographic, and Star brands; and studios that produces motion pictures under the Walt Disney Pictures, Twentieth Century Studios, Marvel, Lucasfilm, Pixar, and Searchlight Pictures banners. It also offers direct-to-consumer streaming services through Disney+, Disney+ Hotstar, ESPN+, Hulu, and Star+; sale/licensing of film and television content to third-party television and subscription video-on-demand services; theatrical, home entertainment, and music distribution services; staging and licensing of live entertainment events; and post-production services by Industrial Light & Magic and Skywalker Sound. In addition, the company operates theme parks and resorts, such as Walt Disney World Resort in Florida; Disneyland Resort in California; Disneyland Paris; Hong Kong Disneyland Resort; and Shanghai Disney Resort; Disney Cruise Line, Disney Vacation Club, National Geographic Expeditions, and Adventures by Disney as well as Aulani, a Disney resort and spa in Hawaii; licenses its intellectual property to a third party for the operations of the Tokyo Disney Resort; and provides consumer products, which include licensing of trade names, characters, visual, literary, and other IP for use on merchandise, published materials, and games. Further, it sells branded merchandise through retail, online, and wholesale businesses; and develops and publishes books, comic books, and magazines. The Walt Disney Company was founded in 1923 and is based in Burbank, California."
        ],
        [
         "GILD",
         "Gilead Sciences, Inc.",
         "Healthcare",
         "Drug Manufacturers - General",
         "US",
         "Daniel P. O'Day",
         "NASDAQ Global Select",
         142442424300,
         114.51,
         "https://www.gilead.com",
         "Gilead Sciences, Inc., a biopharmaceutical company, discovers, develops, and commercializes medicines in the areas of unmet medical need in the United States, Europe, and internationally. The company provides Biktarvy, Genvoya, Descovy, Odefsey, Truvada, Complera/ Eviplera, Stribild, and Atripla products for the treatment of HIV/AIDS; Veklury, an injection for intravenous use, for the treatment of coronavirus disease 2019; and Epclusa, Harvoni, Vosevi, Vemlidy, and Viread for the treatment of liver diseases. It also offers Yescarta, Tecartus, Trodelvy, and Zydelig products for the treatment of hematology, oncology, and cell therapy patients. In addition, the company provides Letairis, an oral formulation for the treatment of pulmonary arterial hypertension; Ranexa, an oral formulation for the treatment of chronic angina; and AmBisome, a liposomal formulation for the treatment of serious invasive fungal infections. Gilead Sciences, Inc. has collaboration agreements with Arcus Biosciences, Inc.; Pionyr Immunotherapeutics Inc.; Tizona Therapeutics, Inc.; Tango Therapeutics, Inc.; Jounce Therapeutics, Inc.; Galapagos NV; Janssen Sciences Ireland Unlimited Company; Japan Tobacco, Inc.; Gadeta B.V.; Bristol-Myers Squibb Company; Dragonfly Therapeutics, Inc.; and Merck & Co, Inc. The company was incorporated in 1987 and is headquartered in Foster City, California."
        ],
        [
         "GIS",
         "General Mills, Inc.",
         "Consumer Defensive",
         "Packaged Foods",
         "US",
         "Jeffrey L. Harmening",
         "New York Stock Exchange",
         26589820560,
         49.02,
         "https://www.generalmills.com",
         "General Mills, Inc. manufactures and markets branded consumer foods worldwide. The company operates in five segments: North America Retail; Convenience Stores & Foodservice; Europe & Australia; Asia & Latin America; and Pet. It offers ready-to-eat cereals, refrigerated yogurt, soup, meal kits, refrigerated and frozen dough products, dessert and baking mixes, bakery flour, frozen pizza and pizza snacks, snack bars, fruit and salty snacks, ice cream, nutrition bars, wellness beverages, and savory and grain snacks, as well as various organic products, including frozen and shelf-stable vegetables. It also supplies branded and unbranded food products to the North American foodservice and commercial baking industries; and manufactures and markets pet food products, including dog and cat food. The company markets its products under the Annie's, Betty Crocker, Bisquick, Blue Buffalo, Blue Basics, Blue Freedom, Bugles, Cascadian Farm, Cheerios, Chex, Cinnamon Toast Crunch, Cocoa Puffs, Cookie Crisp, EPIC, Fiber One, Food Should Taste Good, Fruit by the Foot, Fruit Gushers, Fruit Roll-Ups, Gardetto's, Go-Gurt, Gold Medal, Golden Grahams, Häagen-Dazs, Helpers, Jus-Rol, Kitano, Kix, Lärabar, Latina, Liberté, Lucky Charms, Muir Glen, Nature Valley, Oatmeal Crisp, Old El Paso, Oui, Pillsbury, Progresso, Raisin Nut Bran, Total, Totino's, Trix, Wanchai Ferry, Wheaties, Wilderness, Yoki, and Yoplait trademarks. It sells its products directly, as well as through broker and distribution arrangements to grocery stores, mass merchandisers, membership stores, natural food chains, e-commerce retailers, commercial and noncommercial foodservice distributors and operators, restaurants, convenience stores, and pet specialty stores, as well as drug, dollar, and discount chains. The company operates 466 leased and 392 franchise ice cream parlors. General Mills, Inc. was founded in 1866 and is headquartered in Minneapolis, Minnesota."
        ],
        [
         "GOOGL",
         "Alphabet Inc.",
         "Communication Services",
         "Internet Content & Information",
         "US",
         "Sundar Pichai",
         "NASDAQ Global Select",
         2363795592800,
         195.04,
         "https://www.abc.xyz",
         "Alphabet Inc. provides various products and platforms in the United States, Europe, the Middle East, Africa, the Asia-Pacific, Canada, and Latin America. It operates through Google Services, Google Cloud, and Other Bets segments. The Google Services segment offers products and services, including ads, Android, Chrome, hardware, Gmail, Google Drive, Google Maps, Google Photos, Google Play, Search, and YouTube. It is also involved in the sale of apps and in-app purchases and digital content in the Google Play store; and Fitbit wearable devices, Google Nest home products, Pixel phones, and other devices, as well as in the provision of YouTube non-advertising services. The Google Cloud segment offers infrastructure, platform, and other services; Google Workspace that include cloud-based collaboration tools for enterprises, such as Gmail, Docs, Drive, Calendar, and Meet; and other services for enterprise customers. The Other Bets segment sells health technology and internet services. The company was founded in 1998 and is headquartered in Mountain View, California."
        ],
        [
         "HON",
         "Honeywell International Inc.",
         "Industrials",
         "Conglomerates",
         "US",
         "Vimal M. Kapur",
         "NASDAQ Global Select",
         140178908630,
         220.79,
         "https://www.honeywell.com",
         "Honeywell International Inc. operates as a diversified technology and manufacturing company worldwide. Its Aerospace segment offers auxiliary power units, propulsion engines, integrated avionics, environmental control and electric power systems, engine controls, flight safety, communications, navigation hardware, data and software applications, radar and surveillance systems, aircraft lighting, advanced systems and instruments, satellite and space components, and aircraft wheels and brakes; spare parts; repair, overhaul, and maintenance services; thermal systems, as well as wireless connectivity and management services. The company's Honeywell Building Technologies segment offers software applications for building control and optimization; sensors, switches, control systems, and instruments for energy management; access control; video surveillance; fire products; and installation, maintenance, and upgrades of systems. Its Performance Materials and Technologies segment offers automation control, instrumentation, and software and related services; catalysts and adsorbents, equipment, and consulting; and materials to manufacture end products, such as bullet-resistant armor, nylon, computer chips, and pharmaceutical packaging, as well as provides reduced and low global-warming-potential materials based on hydrofluoro-olefin technology. The company's Safety and Productivity Solutions segment provides personal protection equipment, apparel, gear, and footwear; gas detection technology; cloud-based notification and emergency messaging; mobile devices and software; supply chain and warehouse automation equipment, and software solutions; custom-engineered sensors, switches, and controls; and data and asset management productivity software solutions. The company was founded in 1906 and is headquartered in Charlotte, North Carolina."
        ],
        [
         "IBM",
         "International Business Machines Corporation",
         "Technology",
         "Information Technology Services",
         "US",
         "Arvind Krishna",
         "New York Stock Exchange",
         234724157620,
         251.98,
         "https://www.ibm.com",
         "International Business Machines Corporation provides integrated solutions and services worldwide. The company operates through four business segments: Software, Consulting, Infrastructure, and Financing. The Software segment offers hybrid cloud platform and software solutions, such as Red Hat, an enterprise open-source solutions; software for business automation, AIOps and management, integration, and application servers; data and artificial intelligence solutions; and security software and services for threat, data, and identity. This segment also provides transaction processing software that supports clients' mission-critical and on-premise workloads in banking, airlines, and retail industries. The Consulting segment offers business transformation services, including strategy, business process design and operations, data and analytics, and system integration services; technology consulting services; and application and cloud platform services. The Infrastructure segment provides on-premises and cloud-based server and storage solutions for its clients' mission-critical and regulated workloads; and support services and solutions for hybrid cloud infrastructure, as well as remanufacturing and remarketing services for used equipment. The Financing segment offers lease, installment payment, loan financing, and short-term working capital financing services. The company was formerly known as Computing-Tabulating-Recording Co. International Business Machines Corporation was incorporated in 1911 and is headquartered in Armonk, New York."
        ],
        [
         "JNJ",
         "Johnson & Johnson",
         "Healthcare",
         "Drug Manufacturers - General",
         "US",
         "Joaquin Duato",
         "New York Stock Exchange",
         411922473600,
         171.04,
         "https://www.jnj.com",
         "Johnson & Johnson, together with its subsidiaries, researches and develops, manufactures, and sells various products in the healthcare field worldwide. The company's Consumer Health segment offers baby care products under the JOHNSON'S and AVEENO Baby brands; oral care products under the LISTERINE brand; skin health/beauty products under the AVEENO, CLEAN & CLEAR, DR. CI:LABO, NEUTROGENA, and OGX brands; TYLENOL acetaminophen products; SUDAFED cold, flu, and allergy products; BENADRYL and ZYRTEC allergy products; MOTRIN IB ibuprofen products; NICORETTE smoking cessation products; and PEPCID acid reflux products. It also offers STAYFREE and CAREFREE sanitary pads; o.b. tampons; adhesive bandages under the BAND-AID brand; and first aid products under the NEOSPORIN brand. It serves general public, retail outlets, and distributors. The company's Pharmaceutical segment offers products for rheumatoid arthritis, psoriatic arthritis, inflammatory bowel disease, and psoriasis; HIV/AIDS and COVID-19 infectious diseases; mood disorders, neurodegenerative disorders, and schizophrenia; prostate cancer, hematologic malignancies, lung cancer, and bladder cancer; thrombosis, diabetes and macular degeneration; and pulmonary arterial hypertension. This segment serves retailers, wholesalers, distributors, hospitals, and healthcare professionals directly for prescription use. Its MedTech segment provides electrophysiology products to treat cardiovascular diseases; neurovascular care products to treat hemorrhagic and ischemic stroke; orthopaedics products in support of hips, knees, trauma, spine, sports, and other; advanced and general surgery solutions that focus on breast aesthetics, ear, nose, and throat procedures; and disposable contact lenses and ophthalmic products related to cataract and laser refractive surgery under the ACUVUE brand. This segment serves wholesalers, hospitals, and retailers. The company was founded in 1886 and is based in New Brunswick, New Jersey."
        ]
       ],
       "datasetInfos": [],
       "dbfsResultPath": null,
       "isJsonSchema": true,
       "metadata": {},
       "overflow": false,
       "plotOptions": {
        "customPlotOptions": {},
        "displayType": "table",
        "pivotAggregation": null,
        "pivotColumns": null,
        "xColumns": null,
        "yColumns": null
       },
       "removedWidgets": [],
       "schema": [
        {
         "metadata": "{}",
         "name": "ticker",
         "type": "\"string\""
        },
        {
         "metadata": "{}",
         "name": "company_name",
         "type": "\"string\""
        },
        {
         "metadata": "{}",
         "name": "sector",
         "type": "\"string\""
        },
        {
         "metadata": "{}",
         "name": "industry",
         "type": "\"string\""
        },
        {
         "metadata": "{}",
         "name": "country",
         "type": "\"string\""
        },
        {
         "metadata": "{}",
         "name": "ceo_name",
         "type": "\"string\""
        },
        {
         "metadata": "{}",
         "name": "exchange",
         "type": "\"string\""
        },
        {
         "metadata": "{}",
         "name": "market_cap",
         "type": "\"long\""
        },
        {
         "metadata": "{}",
         "name": "price",
         "type": "\"double\""
        },
        {
         "metadata": "{}",
         "name": "website",
         "type": "\"string\""
        },
        {
         "metadata": "{}",
         "name": "description",
         "type": "\"string\""
        }
       ],
       "type": "table"
      }
     },
     "output_type": "display_data"
    }
   ],
   "source": [
    "# display 'profile' data transformed\n",
    "display(df_silver_profile_clean.limit(20))"
   ]
  },
  {
   "cell_type": "code",
   "execution_count": 0,
   "metadata": {
    "application/vnd.databricks.v1+cell": {
     "cellMetadata": {
      "byteLimit": 2048000,
      "rowLimit": 10000
     },
     "inputWidgets": {},
     "nuid": "f699a60a-db33-4805-a01c-32ee685b61ae",
     "showTitle": false,
     "tableResultSettingsMap": {},
     "title": ""
    }
   },
   "outputs": [],
   "source": [
    "# Save into Silver layer\n",
    "df_silver_profile_clean.write.mode(\"overwrite\").format(\"delta\").save(path_silver_profile)"
   ]
  },
  {
   "cell_type": "markdown",
   "metadata": {
    "application/vnd.databricks.v1+cell": {
     "cellMetadata": {
      "byteLimit": 2048000,
      "rowLimit": 10000
     },
     "inputWidgets": {},
     "nuid": "2be658d2-a07f-48f2-8f83-300f7c2606ae",
     "showTitle": false,
     "tableResultSettingsMap": {},
     "title": ""
    }
   },
   "source": [
    "## 3.2 Historical"
   ]
  },
  {
   "cell_type": "code",
   "execution_count": 0,
   "metadata": {
    "application/vnd.databricks.v1+cell": {
     "cellMetadata": {
      "byteLimit": 2048000,
      "rowLimit": 10000
     },
     "inputWidgets": {},
     "nuid": "0706c65b-0c83-44bf-a3c3-4a0284c22e38",
     "showTitle": false,
     "tableResultSettingsMap": {},
     "title": ""
    }
   },
   "outputs": [
    {
     "output_type": "stream",
     "name": "stdout",
     "output_type": "stream",
     "text": [
      "root\n |-- symbol: string (nullable = true)\n |-- date: string (nullable = true)\n |-- open: double (nullable = true)\n |-- high: double (nullable = true)\n |-- low: double (nullable = true)\n |-- close: double (nullable = true)\n |-- adjClose: double (nullable = true)\n |-- volume: long (nullable = true)\n |-- change: double (nullable = true)\n |-- changePercent: double (nullable = true)\n |-- vwap: double (nullable = true)\n\n"
     ]
    }
   ],
   "source": [
    "df_bronze_historical.printSchema()\n"
   ]
  },
  {
   "cell_type": "code",
   "execution_count": 0,
   "metadata": {
    "application/vnd.databricks.v1+cell": {
     "cellMetadata": {
      "byteLimit": 2048000,
      "rowLimit": 10000
     },
     "inputWidgets": {},
     "nuid": "0ffab7cd-61e0-41bd-be1e-197541ad617a",
     "showTitle": false,
     "tableResultSettingsMap": {},
     "title": ""
    }
   },
   "outputs": [],
   "source": [
    "# Copy 'historical' data from bronze layer\n",
    "df_silver_historical = df_bronze_historical\n",
    "\n",
    "# Expand arrays\n",
    "df_silver_historical_level1 = df_silver_historical.withColumn(\"stock\", explode(col(\"historicalStockList\")))\n",
    "df_silver_historical_level2 = df_silver_historical_level1.withColumn(\"data\", explode(col(\"stock.historical\")))\n",
    "\n",
    "# Select relevant fields and change column names\n",
    "df_silver_historical_clean = df_silver_historical.select(\n",
    "    col(\"symbol\").alias(\"ticker\"),\n",
    "    col(\"date\").cast(DateType()).alias(\"date\"),\n",
    "    col(\"open\"),\n",
    "    col(\"high\"),\n",
    "    col(\"low\"),\n",
    "    col(\"close\"),\n",
    "    col(\"adjClose\").alias(\"adj_close\"),\n",
    "    col(\"volume\"),\n",
    "    col(\"change\"),\n",
    "    col(\"changePercent\").alias(\"change_percent\"),\n",
    "    col(\"vwap\")\n",
    ").dropDuplicates([\"ticker\", \"date\"])"
   ]
  },
  {
   "cell_type": "code",
   "execution_count": 0,
   "metadata": {
    "application/vnd.databricks.v1+cell": {
     "cellMetadata": {
      "byteLimit": 2048000,
      "rowLimit": 10000
     },
     "inputWidgets": {},
     "nuid": "4884655e-d6bc-4e84-bcdb-1eb13d3833f6",
     "showTitle": false,
     "tableResultSettingsMap": {},
     "title": ""
    }
   },
   "outputs": [
    {
     "output_type": "display_data",
     "data": {
      "text/html": [
       "<style scoped>\n",
       "  .table-result-container {\n",
       "    max-height: 300px;\n",
       "    overflow: auto;\n",
       "  }\n",
       "  table, th, td {\n",
       "    border: 1px solid black;\n",
       "    border-collapse: collapse;\n",
       "  }\n",
       "  th, td {\n",
       "    padding: 5px;\n",
       "  }\n",
       "  th {\n",
       "    text-align: left;\n",
       "  }\n",
       "</style><div class='table-result-container'><table class='table-result'><thead style='background-color: white'><tr><th>ticker</th><th>date</th><th>open</th><th>high</th><th>low</th><th>close</th><th>adj_close</th><th>volume</th><th>change</th><th>change_percent</th><th>vwap</th></tr></thead><tbody><tr><td>MSFT</td><td>2024-12-03</td><td>429.84</td><td>432.47</td><td>427.74</td><td>431.2</td><td>429.55</td><td>18302000</td><td>1.36</td><td>0.3164</td><td>430.3125</td></tr><tr><td>BRK-B</td><td>2024-09-19</td><td>462.0</td><td>462.19</td><td>457.25</td><td>459.71</td><td>459.71</td><td>3891344</td><td>-2.29</td><td>-0.49567</td><td>460.2875</td></tr><tr><td>BRK-B</td><td>2024-09-09</td><td>463.97</td><td>466.0</td><td>459.26</td><td>459.61</td><td>459.61</td><td>4571041</td><td>-4.36</td><td>-0.93972</td><td>462.21</td></tr><tr><td>NVDA</td><td>2024-12-16</td><td>134.18</td><td>134.4</td><td>130.42</td><td>132.0</td><td>131.98</td><td>237951130</td><td>-2.18</td><td>-1.62</td><td>132.75</td></tr><tr><td>AAPL</td><td>2025-06-23</td><td>201.63</td><td>202.3</td><td>198.96</td><td>201.5</td><td>201.5</td><td>55814300</td><td>-0.125</td><td>-0.06447453</td><td>201.0975</td></tr><tr><td>AMZN</td><td>2024-12-31</td><td>222.97</td><td>223.23</td><td>218.94</td><td>219.39</td><td>219.39</td><td>24819700</td><td>-3.58</td><td>-1.61</td><td>221.1325</td></tr><tr><td>AMZN</td><td>2024-10-15</td><td>187.63</td><td>188.41</td><td>184.58</td><td>187.69</td><td>187.69</td><td>32178925</td><td>0.06</td><td>0.03197783</td><td>187.0775</td></tr><tr><td>MSFT</td><td>2025-03-25</td><td>393.92</td><td>396.36</td><td>392.64</td><td>395.16</td><td>394.44</td><td>15775000</td><td>1.25</td><td>0.31478</td><td>394.52</td></tr><tr><td>BRK-B</td><td>2025-03-25</td><td>527.18</td><td>533.29</td><td>525.88</td><td>528.87</td><td>528.87</td><td>3964800</td><td>1.69</td><td>0.32057</td><td>528.805</td></tr><tr><td>BRK-B</td><td>2025-03-12</td><td>497.6</td><td>498.32</td><td>488.75</td><td>495.94</td><td>495.94</td><td>3871100</td><td>-1.66</td><td>-0.3336</td><td>495.1525</td></tr><tr><td>AMZN</td><td>2025-02-18</td><td>228.82</td><td>229.3</td><td>223.72</td><td>226.65</td><td>226.65</td><td>42975133</td><td>-2.17</td><td>-0.94834</td><td>227.1225</td></tr><tr><td>MSFT</td><td>2025-04-15</td><td>388.51</td><td>391.89</td><td>384.16</td><td>385.73</td><td>385.02</td><td>17199900</td><td>-2.77</td><td>-0.71555</td><td>387.5725</td></tr><tr><td>BRK-B</td><td>2024-09-17</td><td>453.5</td><td>461.1</td><td>453.29</td><td>456.68</td><td>456.68</td><td>3824300</td><td>3.18</td><td>0.70121</td><td>456.1425</td></tr><tr><td>NVDA</td><td>2025-05-09</td><td>117.35</td><td>118.23</td><td>115.21</td><td>116.65</td><td>116.64</td><td>132972200</td><td>-0.7</td><td>-0.59651</td><td>116.86</td></tr><tr><td>AAPL</td><td>2025-05-14</td><td>212.43</td><td>213.94</td><td>210.58</td><td>212.33</td><td>212.33</td><td>49325825</td><td>-0.1</td><td>-0.04707433</td><td>212.32</td></tr><tr><td>AAPL</td><td>2024-11-08</td><td>227.17</td><td>228.66</td><td>226.41</td><td>226.96</td><td>226.41</td><td>38328824</td><td>-0.21</td><td>-0.09244178</td><td>227.3</td></tr><tr><td>AAPL</td><td>2024-08-20</td><td>225.77</td><td>227.17</td><td>225.45</td><td>226.51</td><td>225.72</td><td>30299033</td><td>0.74</td><td>0.32777</td><td>226.225</td></tr><tr><td>AMZN</td><td>2025-06-09</td><td>214.75</td><td>217.85</td><td>212.88</td><td>216.98</td><td>216.98</td><td>38102502</td><td>2.23</td><td>1.04</td><td>215.615</td></tr><tr><td>AMZN</td><td>2025-05-27</td><td>203.09</td><td>206.69</td><td>202.19</td><td>206.02</td><td>206.02</td><td>34892044</td><td>2.94</td><td>1.44</td><td>204.4975</td></tr><tr><td>AMZN</td><td>2025-03-14</td><td>197.41</td><td>198.65</td><td>195.32</td><td>197.95</td><td>197.95</td><td>38096700</td><td>0.54</td><td>0.27354</td><td>197.3325</td></tr></tbody></table></div>"
      ]
     },
     "metadata": {
      "application/vnd.databricks.v1+output": {
       "addedWidgets": {},
       "aggData": [],
       "aggError": "",
       "aggOverflow": false,
       "aggSchema": [],
       "aggSeriesLimitReached": false,
       "aggType": "",
       "arguments": {},
       "columnCustomDisplayInfos": {},
       "data": [
        [
         "MSFT",
         "2024-12-03",
         429.84,
         432.47,
         427.74,
         431.2,
         429.55,
         18302000,
         1.36,
         0.3164,
         430.3125
        ],
        [
         "BRK-B",
         "2024-09-19",
         462.0,
         462.19,
         457.25,
         459.71,
         459.71,
         3891344,
         -2.29,
         -0.49567,
         460.2875
        ],
        [
         "BRK-B",
         "2024-09-09",
         463.97,
         466.0,
         459.26,
         459.61,
         459.61,
         4571041,
         -4.36,
         -0.93972,
         462.21
        ],
        [
         "NVDA",
         "2024-12-16",
         134.18,
         134.4,
         130.42,
         132.0,
         131.98,
         237951130,
         -2.18,
         -1.62,
         132.75
        ],
        [
         "AAPL",
         "2025-06-23",
         201.63,
         202.3,
         198.96,
         201.5,
         201.5,
         55814300,
         -0.125,
         -0.06447453,
         201.0975
        ],
        [
         "AMZN",
         "2024-12-31",
         222.97,
         223.23,
         218.94,
         219.39,
         219.39,
         24819700,
         -3.58,
         -1.61,
         221.1325
        ],
        [
         "AMZN",
         "2024-10-15",
         187.63,
         188.41,
         184.58,
         187.69,
         187.69,
         32178925,
         0.06,
         0.03197783,
         187.0775
        ],
        [
         "MSFT",
         "2025-03-25",
         393.92,
         396.36,
         392.64,
         395.16,
         394.44,
         15775000,
         1.25,
         0.31478,
         394.52
        ],
        [
         "BRK-B",
         "2025-03-25",
         527.18,
         533.29,
         525.88,
         528.87,
         528.87,
         3964800,
         1.69,
         0.32057,
         528.805
        ],
        [
         "BRK-B",
         "2025-03-12",
         497.6,
         498.32,
         488.75,
         495.94,
         495.94,
         3871100,
         -1.66,
         -0.3336,
         495.1525
        ],
        [
         "AMZN",
         "2025-02-18",
         228.82,
         229.3,
         223.72,
         226.65,
         226.65,
         42975133,
         -2.17,
         -0.94834,
         227.1225
        ],
        [
         "MSFT",
         "2025-04-15",
         388.51,
         391.89,
         384.16,
         385.73,
         385.02,
         17199900,
         -2.77,
         -0.71555,
         387.5725
        ],
        [
         "BRK-B",
         "2024-09-17",
         453.5,
         461.1,
         453.29,
         456.68,
         456.68,
         3824300,
         3.18,
         0.70121,
         456.1425
        ],
        [
         "NVDA",
         "2025-05-09",
         117.35,
         118.23,
         115.21,
         116.65,
         116.64,
         132972200,
         -0.7,
         -0.59651,
         116.86
        ],
        [
         "AAPL",
         "2025-05-14",
         212.43,
         213.94,
         210.58,
         212.33,
         212.33,
         49325825,
         -0.1,
         -0.04707433,
         212.32
        ],
        [
         "AAPL",
         "2024-11-08",
         227.17,
         228.66,
         226.41,
         226.96,
         226.41,
         38328824,
         -0.21,
         -0.09244178,
         227.3
        ],
        [
         "AAPL",
         "2024-08-20",
         225.77,
         227.17,
         225.45,
         226.51,
         225.72,
         30299033,
         0.74,
         0.32777,
         226.225
        ],
        [
         "AMZN",
         "2025-06-09",
         214.75,
         217.85,
         212.88,
         216.98,
         216.98,
         38102502,
         2.23,
         1.04,
         215.615
        ],
        [
         "AMZN",
         "2025-05-27",
         203.09,
         206.69,
         202.19,
         206.02,
         206.02,
         34892044,
         2.94,
         1.44,
         204.4975
        ],
        [
         "AMZN",
         "2025-03-14",
         197.41,
         198.65,
         195.32,
         197.95,
         197.95,
         38096700,
         0.54,
         0.27354,
         197.3325
        ]
       ],
       "datasetInfos": [],
       "dbfsResultPath": null,
       "isJsonSchema": true,
       "metadata": {},
       "overflow": false,
       "plotOptions": {
        "customPlotOptions": {},
        "displayType": "table",
        "pivotAggregation": null,
        "pivotColumns": null,
        "xColumns": null,
        "yColumns": null
       },
       "removedWidgets": [],
       "schema": [
        {
         "metadata": "{}",
         "name": "ticker",
         "type": "\"string\""
        },
        {
         "metadata": "{}",
         "name": "date",
         "type": "\"date\""
        },
        {
         "metadata": "{}",
         "name": "open",
         "type": "\"double\""
        },
        {
         "metadata": "{}",
         "name": "high",
         "type": "\"double\""
        },
        {
         "metadata": "{}",
         "name": "low",
         "type": "\"double\""
        },
        {
         "metadata": "{}",
         "name": "close",
         "type": "\"double\""
        },
        {
         "metadata": "{}",
         "name": "adj_close",
         "type": "\"double\""
        },
        {
         "metadata": "{}",
         "name": "volume",
         "type": "\"long\""
        },
        {
         "metadata": "{}",
         "name": "change",
         "type": "\"double\""
        },
        {
         "metadata": "{}",
         "name": "change_percent",
         "type": "\"double\""
        },
        {
         "metadata": "{}",
         "name": "vwap",
         "type": "\"double\""
        }
       ],
       "type": "table"
      }
     },
     "output_type": "display_data"
    }
   ],
   "source": [
    "# display 'historical' data transformed\n",
    "display(df_silver_historical_clean.limit(20))"
   ]
  },
  {
   "cell_type": "code",
   "execution_count": 0,
   "metadata": {
    "application/vnd.databricks.v1+cell": {
     "cellMetadata": {
      "byteLimit": 2048000,
      "rowLimit": 10000
     },
     "inputWidgets": {},
     "nuid": "a8de045b-2174-43cb-a887-82bb120c601e",
     "showTitle": false,
     "tableResultSettingsMap": {},
     "title": ""
    }
   },
   "outputs": [],
   "source": [
    "# Save into Silver layer\n",
    "df_silver_historical_clean.write.mode(\"overwrite\").format(\"delta\").save(path_silver_historical)"
   ]
  }
 ],
 "metadata": {
  "application/vnd.databricks.v1+notebook": {
   "computePreferences": null,
   "dashboards": [],
   "environmentMetadata": {
    "base_environment": "",
    "environment_version": "2"
   },
   "inputWidgetPreferences": null,
   "language": "python",
   "notebookMetadata": {
    "pythonIndentUnit": 4
   },
   "notebookName": "Bronze_to_Silver",
   "widgets": {}
  },
  "language_info": {
   "name": "python"
  }
 },
 "nbformat": 4,
 "nbformat_minor": 0
}