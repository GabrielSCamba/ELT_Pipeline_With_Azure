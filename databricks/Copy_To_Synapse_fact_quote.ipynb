{
 "cells": [
  {
   "cell_type": "code",
   "execution_count": 0,
   "metadata": {
    "application/vnd.databricks.v1+cell": {
     "cellMetadata": {},
     "inputWidgets": {},
     "nuid": "59458718-e335-44dd-8068-61f4d13a0095",
     "showTitle": false,
     "tableResultSettingsMap": {},
     "title": ""
    }
   },
   "outputs": [],
   "source": [
    "synapse_password = dbutils.secrets.get(scope=\"meu-scope-kv\", key=\"synapse-password\")"
   ]
  },
  {
   "cell_type": "code",
   "execution_count": 0,
   "metadata": {
    "application/vnd.databricks.v1+cell": {
     "cellMetadata": {
      "byteLimit": 2048000,
      "rowLimit": 10000
     },
     "inputWidgets": {},
     "nuid": "bf23dd80-c4c9-4a78-b8b3-e3981a2eac0b",
     "showTitle": false,
     "tableResultSettingsMap": {},
     "title": ""
    }
   },
   "outputs": [],
   "source": [
    "# Get Paths\n",
    "path_gold_quote = \"abfss://gold@datalakeetlproject.dfs.core.windows.net/fact_quote\"\n",
    "temp_dir = \"abfss://staging@datalakeetlproject.dfs.core.windows.net/fact_quote/\"\n"
   ]
  },
  {
   "cell_type": "code",
   "execution_count": 0,
   "metadata": {
    "application/vnd.databricks.v1+cell": {
     "cellMetadata": {
      "byteLimit": 2048000,
      "rowLimit": 10000
     },
     "inputWidgets": {},
     "nuid": "c3be729c-72aa-4c90-b201-f8dd593f9502",
     "showTitle": false,
     "tableResultSettingsMap": {},
     "title": ""
    }
   },
   "outputs": [],
   "source": [
    "#Datalake connection\n",
    "blobAccessKey = dbutils.secrets.get(scope = \"myscope\", key = \"accesskey\")\n",
    "spark.conf.set(\"fs.azure.account.key.datalakeetlproject.dfs.core.windows.net\", \n",
    "               blobAccessKey) "
   ]
  },
  {
   "cell_type": "code",
   "execution_count": 0,
   "metadata": {
    "application/vnd.databricks.v1+cell": {
     "cellMetadata": {
      "byteLimit": 2048000,
      "rowLimit": 10000
     },
     "inputWidgets": {},
     "nuid": "211c02a3-f480-40a4-8c51-67645f7957d0",
     "showTitle": false,
     "tableResultSettingsMap": {},
     "title": ""
    }
   },
   "outputs": [],
   "source": [
    "# Load Dataframe\n",
    "df_fact_quote = spark.read.format(\"delta\").load(path_gold_quote)"
   ]
  },
  {
   "cell_type": "code",
   "execution_count": 0,
   "metadata": {
    "application/vnd.databricks.v1+cell": {
     "cellMetadata": {
      "byteLimit": 2048000,
      "rowLimit": 10000
     },
     "inputWidgets": {},
     "nuid": "12056f17-4ce5-42d2-a722-560a26482e05",
     "showTitle": false,
     "tableResultSettingsMap": {},
     "title": ""
    }
   },
   "outputs": [],
   "source": [
    "df_fact_quote.write \\\n",
    "  .format(\"com.databricks.spark.sqldw\") \\\n",
    "  .option(\"url\", \"jdbc:sqlserver://sy-elt-project.sql.azuresynapse.net:1433;database=dpool_eltproject;encrypt=true;trustServerCertificate=false;hostNameInCertificate=*.sql.azuresynapse.net;loginTimeout=30;\") \\\n",
    "  .option(\"user\", \"sqladminuser\") \\\n",
    "  .option(\"password\", synapse_password) \\\n",
    "  .option(\"dbtable\", \"dbo.fact_quote\") \\\n",
    "  .option(\"forwardSparkAzureStorageCredentials\", \"true\") \\\n",
    "  .option(\"tempDir\", temp_dir) \\\n",
    "  .mode(\"overwrite\") \\\n",
    "  .save()\n"
   ]
  }
 ],
 "metadata": {
  "application/vnd.databricks.v1+notebook": {
   "computePreferences": null,
   "dashboards": [],
   "environmentMetadata": {
    "base_environment": "",
    "environment_version": "2"
   },
   "inputWidgetPreferences": null,
   "language": "python",
   "notebookMetadata": {
    "pythonIndentUnit": 4
   },
   "notebookName": "Copy_To_Synapse_fact_quote",
   "widgets": {}
  },
  "language_info": {
   "name": "python"
  }
 },
 "nbformat": 4,
 "nbformat_minor": 0
}
